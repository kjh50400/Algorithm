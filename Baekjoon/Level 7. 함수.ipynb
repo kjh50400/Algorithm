{
 "cells": [
  {
   "cell_type": "markdown",
   "metadata": {},
   "source": [
    "# 15596. 정수 N개의 합\n",
    "\n",
    "## 문제\n",
    "정수 n개가 주어졌을 때, n개의 합을 구하는 함수를 작성하시오.\n",
    "\n",
    "작성해야 하는 함수는 다음과 같다.\n",
    "\n",
    "Python 2, Python 3, PyPy, PyPy3: def solve(a: list) -> int\n",
    "a: 합을 구해야 하는 정수 n개가 저장되어 있는 리스트 (0 ≤ a[i] ≤ 1,000,000, 1 ≤ n ≤ 3,000,000)\n",
    "리턴값: a에 포함되어 있는 정수 n개의 합 (정수)"
   ]
  },
  {
   "cell_type": "code",
   "execution_count": 1,
   "metadata": {},
   "outputs": [],
   "source": [
    "# 제출시 백준에서 기본적으로 제공하는 코드\n",
    "'''\n",
    "def solve1(a):\n",
    "    ans = 0\n",
    "    return ans\n",
    "'''\n",
    "\n",
    "# 제출 코드\n",
    "def solve(a):\n",
    "    ans = sum(a)\n",
    "    return ans"
   ]
  },
  {
   "cell_type": "markdown",
   "metadata": {},
   "source": [
    "[점프 투 파이썬](https://wikidocs.net/24)을 참조하면 좋다."
   ]
  },
  {
   "cell_type": "markdown",
   "metadata": {},
   "source": [
    "# 4673. 셀프 넘버\n",
    "\n",
    "## 문제\n",
    "셀프 넘버는 1949년 인도 수학자 D.R. Kaprekar가 이름 붙였다. 양의 정수 n에 대해서 d(n)을 n과 n의 각 자리수를 더하는 함수라고 정의하자. 예를 들어, d(75) = 75+7+5 = 87이다.\n",
    "\n",
    "양의 정수 n이 주어졌을 때, 이 수를 시작해서 n, d(n), d(d(n)), d(d(d(n))), ...과 같은 무한 수열을 만들 수 있다. \n",
    "\n",
    "예를 들어, 33으로 시작한다면 다음 수는 33 + 3 + 3 = 39이고, 그 다음 수는 39 + 3 + 9 = 51, 다음 수는 51 + 5 + 1 = 57이다. 이런식으로 다음과 같은 수열을 만들 수 있다.\n",
    "\n",
    "33, 39, 51, 57, 69, 84, 96, 111, 114, 120, 123, 129, 141, ...\n",
    "\n",
    "n을 d(n)의 생성자라고 한다. 위의 수열에서 33은 39의 생성자이고, 39는 51의 생성자, 51은 57의 생성자이다. 생성자가 한 개보다 많은 경우도 있다. 예를 들어, 101은 생성자가 2개(91과 100) 있다. \n",
    "\n",
    "생성자가 없는 숫자를 셀프 넘버라고 한다. 100보다 작은 셀프 넘버는 총 13개가 있다. 1, 3, 5, 7, 9, 20, 31, 42, 53, 64, 75, 86, 97\n",
    "\n",
    "10000보다 작거나 같은 셀프 넘버를 한 줄에 하나씩 출력하는 프로그램을 작성하시오.\n",
    "\n",
    "## 입력\n",
    "입력은 없다.\n",
    "\n",
    "## 출력\n",
    "10,000보다 작거나 같은 셀프 넘버를 한 줄에 하나씩 증가하는 순서로 출력한다."
   ]
  },
  {
   "cell_type": "code",
   "execution_count": 5,
   "metadata": {},
   "outputs": [
    {
     "name": "stdout",
     "output_type": "stream",
     "text": [
      "[2, 4, 8, 16, 23, 28, 38, 49, 62, 70, 77, 91, 101]\n"
     ]
    }
   ],
   "source": [
    "result = []\n",
    "num = 1\n",
    "while num <= 100:\n",
    "    ds = 0\n",
    "    for i in range(len(str(num))):\n",
    "        ds += int(str(num)[i])\n",
    "    num += ds\n",
    "    result.append(num)\n",
    "\n",
    "print(result)"
   ]
  },
  {
   "cell_type": "code",
   "execution_count": 22,
   "metadata": {},
   "outputs": [
    {
     "name": "stdin",
     "output_type": "stream",
     "text": [
      " 39\n"
     ]
    },
    {
     "name": "stdout",
     "output_type": "stream",
     "text": [
      "33 39\n"
     ]
    }
   ],
   "source": [
    "def dfunc(num):\n",
    "    ds = 0\n",
    "    for i in range(len(str(num))):\n",
    "        ds += int(str(num)[i])\n",
    "    result = num + ds\n",
    "    \n",
    "    return result\n",
    "\n",
    "a = int(input())\n",
    "\n",
    "for i in range(a):\n",
    "    if dfunc(i) == a:\n",
    "        print(i, dfunc(i))\n",
    "        break\n",
    "    else: pass"
   ]
  },
  {
   "cell_type": "code",
   "execution_count": 4,
   "metadata": {},
   "outputs": [
    {
     "name": "stdout",
     "output_type": "stream",
     "text": [
      "[2, 4, 6, 8, 10, 12, 14, 16, 18, 11, 13, 15, 17, 19, 21, 23, 25, 27, 29, 22, 24, 26, 28, 30, 32, 34, 36, 38, 40, 33, 35, 37, 39, 41, 43, 45, 47, 49, 51, 44, 46, 48, 50, 52, 54, 56, 58, 60, 62, 55, 57, 59, 61, 63, 65, 67, 69, 71, 73, 66, 68, 70, 72, 74, 76, 78, 80, 82, 84, 77, 79, 81, 83, 85, 87, 89, 91, 93, 95, 88, 90, 92, 94, 96, 98, 100, 102, 104, 106, 99, 101, 103, 105, 107, 109, 111, 113, 115, 117, 101]\n",
      "{2, 4, 6, 8, 10, 11, 12, 13, 14, 15, 16, 17, 18, 19, 21, 22, 23, 24, 25, 26, 27, 28, 29, 30, 32, 33, 34, 35, 36, 37, 38, 39, 40, 41, 43, 44, 45, 46, 47, 48, 49, 50, 51, 52, 54, 55, 56, 57, 58, 59, 60, 61, 62, 63, 65, 66, 67, 68, 69, 70, 71, 72, 73, 74, 76, 77, 78, 79, 80, 81, 82, 83, 84, 85, 87, 88, 89, 90, 91, 92, 93, 94, 95, 96, 98, 99, 100, 101, 102, 103, 104, 105, 106, 107, 109, 111, 113, 115, 117}\n"
     ]
    }
   ],
   "source": [
    "def dfunc(num):\n",
    "    ds = 0\n",
    "    for i in range(len(str(num))):\n",
    "        ds += int(str(num)[i])\n",
    "    result = num + ds\n",
    "    \n",
    "    return result\n",
    "\n",
    "result = []\n",
    "a = 1\n",
    "while a <= 100:\n",
    "    result.append(dfunc(a))\n",
    "    a += 1\n",
    "    \n",
    "fresult = set(result)\n",
    "print(result)\n",
    "print(fresult)"
   ]
  },
  {
   "cell_type": "code",
   "execution_count": 5,
   "metadata": {},
   "outputs": [
    {
     "name": "stdout",
     "output_type": "stream",
     "text": [
      "[0, 2, 4, 6, 8, 10, 12, 14, 16, 18, 11, 13, 15, 17, 19, 21, 23, 25, 27, 29, 22, 24, 26, 28, 30, 32, 34, 36, 38, 40, 33, 35, 37, 39, 41, 43, 45, 47, 49, 51, 44, 46, 48, 50, 52, 54, 56, 58, 60, 62, 55, 57, 59, 61, 63, 65, 67, 69, 71, 73, 66, 68, 70, 72, 74, 76, 78, 80, 82, 84, 77, 79, 81, 83, 85, 87, 89, 91, 93, 95, 88, 90, 92, 94, 96, 98, 100]\n",
      "{0, 2, 4, 6, 8, 10, 11, 12, 13, 14, 15, 16, 17, 18, 19, 21, 22, 23, 24, 25, 26, 27, 28, 29, 30, 32, 33, 34, 35, 36, 37, 38, 39, 40, 41, 43, 44, 45, 46, 47, 48, 49, 50, 51, 52, 54, 55, 56, 57, 58, 59, 60, 61, 62, 63, 65, 66, 67, 68, 69, 70, 71, 72, 73, 74, 76, 77, 78, 79, 80, 81, 82, 83, 84, 85, 87, 88, 89, 90, 91, 92, 93, 94, 95, 96, 98, 100}\n"
     ]
    }
   ],
   "source": [
    "def dfunc(num):\n",
    "    ds = 0\n",
    "    for i in range(len(str(num))):\n",
    "        ds += int(str(num)[i])\n",
    "    result = num + ds\n",
    "    \n",
    "    return result\n",
    "\n",
    "result = []\n",
    "a = 1\n",
    "for i in range(100):\n",
    "    if dfunc(i) > 100:\n",
    "        break\n",
    "    else:\n",
    "        result.append(dfunc(i))\n",
    "    \n",
    "fresult = set(result)\n",
    "print(result)\n",
    "print(fresult)"
   ]
  },
  {
   "cell_type": "code",
   "execution_count": 14,
   "metadata": {},
   "outputs": [
    {
     "name": "stdout",
     "output_type": "stream",
     "text": [
      "1\n",
      "3\n",
      "5\n",
      "7\n",
      "9\n",
      "20\n",
      "31\n",
      "42\n",
      "53\n",
      "64\n",
      "75\n",
      "86\n",
      "97\n"
     ]
    }
   ],
   "source": [
    "def dfunc(num):\n",
    "    ds = 0\n",
    "    for i in range(len(str(num))):\n",
    "        ds += int(str(num)[i])\n",
    "    result = num + ds\n",
    "    \n",
    "    return result\n",
    "\n",
    "result = []\n",
    "a = 1\n",
    "for i in range(10000):\n",
    "    if dfunc(i) > 10035:\n",
    "        break\n",
    "    else:\n",
    "        result.append(dfunc(i))\n",
    "    \n",
    "fresult = set(result)\n",
    "# print(result, '\\n')\n",
    "# print(fresult, '\\n')\n",
    "\n",
    "for i in range(100):\n",
    "    if i not in fresult:\n",
    "        print(i)\n",
    "    else: pass"
   ]
  },
  {
   "cell_type": "markdown",
   "metadata": {},
   "source": [
    "# 1065. 한수\n",
    "\n",
    "## 문제\n",
    "\n",
    "어떤 양의 정수 X의 자리수가 등차수열을 이룬다면, 그 수를 한수라고 한다. 등차수열은 연속된 두 개의 수의 차이가 일정한 수열을 말한다. N이 주어졌을 때, 1보다 크거나 같고, N보다 작거나 같은 한수의 개수를 출력하는 프로그램을 작성하시오. \n",
    "\n",
    "## 입력\n",
    "\n",
    "첫째 줄에 1,000보다 작거나 같은 자연수 N이 주어진다.\n",
    "\n",
    "## 출력\n",
    "\n",
    "첫째 줄에 1보다 크거나 같고, N보다 작거나 같은 한수의 개수를 출력한다."
   ]
  },
  {
   "cell_type": "code",
   "execution_count": 90,
   "metadata": {},
   "outputs": [
    {
     "name": "stdin",
     "output_type": "stream",
     "text": [
      " 1\n"
     ]
    },
    {
     "name": "stdout",
     "output_type": "stream",
     "text": [
      "1\n"
     ]
    }
   ],
   "source": [
    "def han(num):\n",
    "    EOS = []\n",
    "    for i in range(len(str(num)) - 1):\n",
    "        EOS.append(int(str(num)[i+1]) - int(str(num)[i]))\n",
    "    \n",
    "    result = set(EOS)\n",
    "    \n",
    "    if len(result) == 1 or len(result) == 0:\n",
    "        return num\n",
    "    else: pass\n",
    "\n",
    "a = int(input())\n",
    "\n",
    "fresult = []\n",
    "for i in range(1,a+1):\n",
    "    fresult.append(han(i))\n",
    "    \n",
    "fresult = set(fresult)\n",
    "\n",
    "if None in fresult:\n",
    "    fresult.remove(None)\n",
    "else: pass\n",
    "\n",
    "print(len(fresult))"
   ]
  },
  {
   "cell_type": "code",
   "execution_count": null,
   "metadata": {},
   "outputs": [],
   "source": []
  }
 ],
 "metadata": {
  "kernelspec": {
   "display_name": "Python 3",
   "language": "python",
   "name": "python3"
  },
  "language_info": {
   "codemirror_mode": {
    "name": "ipython",
    "version": 3
   },
   "file_extension": ".py",
   "mimetype": "text/x-python",
   "name": "python",
   "nbconvert_exporter": "python",
   "pygments_lexer": "ipython3",
   "version": "3.8.1"
  }
 },
 "nbformat": 4,
 "nbformat_minor": 4
}
