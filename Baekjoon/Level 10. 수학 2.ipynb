{
 "cells": [
  {
   "cell_type": "markdown",
   "metadata": {},
   "source": [
    "# 1978번 소수 찾기\n",
    "\n",
    "## 문제\n",
    "주어진 수 N개 중에서 소수가 몇 개인지 찾아서 출력하는 프로그램을 작성하시오.\n",
    "\n",
    "## 입력\n",
    "첫 줄에 수의 개수 N이 주어진다. N은 100이하이다. 다음으로 N개의 수가 주어지는데 수는 1,000 이하의 자연수이다.\n",
    "\n",
    "## 출력\n",
    "주어진 수들 중 소수의 개수를 출력한다."
   ]
  },
  {
   "cell_type": "code",
   "execution_count": 22,
   "metadata": {},
   "outputs": [
    {
     "name": "stdin",
     "output_type": "stream",
     "text": [
      " 5\n",
      " 1 1 3 5 7\n"
     ]
    },
    {
     "name": "stdout",
     "output_type": "stream",
     "text": [
      "[3, 5, 7]\n",
      "3\n"
     ]
    }
   ],
   "source": [
    "n = int(input())\n",
    "\n",
    "def detPrime(x):\n",
    "    if x == 1:\n",
    "        return\n",
    "    else:\n",
    "        for i in range(2,x):\n",
    "            if x % i == 0:\n",
    "                return\n",
    "\n",
    "        return x\n",
    "\n",
    "nums = list(map(int, input().split()))\n",
    "primes = []\n",
    "\n",
    "for num in nums:\n",
    "    if detPrime(num) != None:\n",
    "        primes.append(detPrime(num))\n",
    "\n",
    "print(primes)\n",
    "print(len(primes))"
   ]
  },
  {
   "cell_type": "markdown",
   "metadata": {},
   "source": [
    "__이번 문제는 소수의 정의를 검색하여 알게 된 후 해당 정의를 코드로 구현하여 풀 수 있었다.__\n",
    "\n",
    "__막연히 알고 있던 소수의 정의를 확실히 알고 나니 문제를 푸는데 많은 도움이 되었다.__"
   ]
  },
  {
   "cell_type": "markdown",
   "metadata": {},
   "source": [
    "# 2581번 소수\n",
    "\n",
    "## 문제\n",
    "자연수 M과 N이 주어질 때 M이상 N이하의 자연수 중 소수인 것을 모두 골라 이들 소수의 합과 최솟값을 찾는 프로그램을 작성하시오.\n",
    "\n",
    "예를 들어 M=60, N=100인 경우 60이상 100이하의 자연수 중 소수는 61, 67, 71, 73, 79, 83, 89, 97 총 8개가 있으므로, 이들 소수의 합은 620이고, 최솟값은 61이 된다.\n",
    "\n",
    "## 입력\n",
    "입력의 첫째 줄에 M이, 둘째 줄에 N이 주어진다.\n",
    "\n",
    "M과 N은 10,000이하의 자연수이며, M은 N보다 작거나 같다.\n",
    "\n",
    "## 출력\n",
    "M이상 N이하의 자연수 중 소수인 것을 모두 찾아 첫째 줄에 그 합을, 둘째 줄에 그 중 최솟값을 출력한다. \n",
    "\n",
    "단, M이상 N이하의 자연수 중 소수가 없을 경우는 첫째 줄에 -1을 출력한다."
   ]
  },
  {
   "cell_type": "code",
   "execution_count": 26,
   "metadata": {},
   "outputs": [
    {
     "name": "stdin",
     "output_type": "stream",
     "text": [
      " 64\n",
      " 65\n"
     ]
    },
    {
     "name": "stdout",
     "output_type": "stream",
     "text": [
      "-1\n"
     ]
    }
   ],
   "source": [
    "m = int(input())\n",
    "n = int(input())\n",
    "\n",
    "def detPrime(x):\n",
    "    if x == 1:\n",
    "        return\n",
    "    else:\n",
    "        for i in range(2,x):\n",
    "            if x % i == 0:\n",
    "                return\n",
    "\n",
    "        return x\n",
    "\n",
    "primes=[]\n",
    "\n",
    "for i in range(m,n+1):\n",
    "    if detPrime(i) != None:\n",
    "        primes.append( detPrime(i) )\n",
    "\n",
    "if len(primes) == 0:\n",
    "    print('-1')\n",
    "else:\n",
    "    print(sum(primes))\n",
    "    print(primes[0])"
   ]
  },
  {
   "cell_type": "markdown",
   "metadata": {},
   "source": [
    "__앞서 구한 소수의 정의를 통해 이번 문제도 쉽게 풀 수 있었다.__\n",
    "\n",
    "__시간에서 744ms가 소요되어 너무 오래 걸린다는 판단하에 다른 사람의 풀이를 확인해 보니 뭔소리인지도 모를 코드가 작성되어 있다.__\n",
    "\n",
    "__세상에는 참 잘하는 사람들이 많다. 아래 확인한 코드를 첨부한다.__\n",
    "\n",
    "```python\n",
    "arr = [False, False] + [True] * 9999\n",
    "for i in range(2, 101):\n",
    "    if arr[i]:\n",
    "        for j in range(i * 2, len(arr), i):\n",
    "            arr[j] = False\n",
    "\n",
    "m = int(input())\n",
    "n = int(input())\n",
    "nums = [i for i in range(m, n+1) if arr[i]]\n",
    "print(sum(nums)if len(nums) else -1)\n",
    "print(min(nums) if len(nums) else '')\n",
    "```"
   ]
  },
  {
   "cell_type": "markdown",
   "metadata": {},
   "source": [
    "# 1929번 소수 구하기\n",
    "\n",
    "## 문제\n",
    "M이상 N이하의 소수를 모두 출력하는 프로그램을 작성하시오.\n",
    "\n",
    "## 입력\n",
    "첫째 줄에 자연수 M과 N이 빈 칸을 사이에 두고 주어진다. (1 ≤ M ≤ N ≤ 1,000,000)\n",
    "\n",
    "## 출력\n",
    "한 줄에 하나씩, 증가하는 순서대로 소수를 출력한다."
   ]
  },
  {
   "cell_type": "code",
   "execution_count": 27,
   "metadata": {},
   "outputs": [
    {
     "name": "stdin",
     "output_type": "stream",
     "text": [
      " 3 16\n"
     ]
    },
    {
     "name": "stdout",
     "output_type": "stream",
     "text": [
      "3\n",
      "5\n",
      "7\n",
      "11\n",
      "13\n"
     ]
    }
   ],
   "source": [
    "m, n = map(int, input().split())\n",
    "\n",
    "def detPrime(x):\n",
    "    if x == 1:\n",
    "        return\n",
    "    else:\n",
    "        for i in range(2,x):\n",
    "            if x % i == 0:\n",
    "                return\n",
    "\n",
    "        return x\n",
    "    \n",
    "for i in range(m,n+1):\n",
    "    if detPrime(i) != None:\n",
    "        print(detPrime(i))"
   ]
  },
  {
   "cell_type": "markdown",
   "metadata": {},
   "source": [
    "__스스로 작성한 소수 판별 코드는 시간초과로 실패하였다.__\n",
    "\n",
    "__그래서 앞서 참조한 소수 판별 코드를 사용하여 풀어보았다.__"
   ]
  },
  {
   "cell_type": "code",
   "execution_count": 33,
   "metadata": {},
   "outputs": [
    {
     "name": "stdin",
     "output_type": "stream",
     "text": [
      " 3 16\n"
     ]
    },
    {
     "name": "stdout",
     "output_type": "stream",
     "text": [
      "3\n",
      "5\n",
      "7\n",
      "11\n",
      "13\n"
     ]
    }
   ],
   "source": [
    "def detPrime(n):\n",
    "    if n < 2:\n",
    "        return [False, False]\n",
    "    else:\n",
    "        seive = [False, False] + [True]*(n-1)\n",
    "        for k in range(2, int(n**0.5)+1):\n",
    "            if seive[k]:\n",
    "                seive[k*2: :k]=[False]*((n-k)//k)\n",
    "        return [x for x in range(n+1) if seive[x]]\n",
    "    \n"
   ]
  },
  {
   "cell_type": "markdown",
   "metadata": {},
   "source": [
    "__이렇게 대충 숫자 바꾸면서 푸니까 풀리긴 하는데 진짜 모르겠다.__\n",
    "\n",
    "__세상에는 미친놈들이 많구나 껄껄__"
   ]
  },
  {
   "cell_type": "markdown",
   "metadata": {},
   "source": [
    "# 4948번 베르트랑 공준\n",
    "\n",
    "## 문제\n",
    "베르트랑 공준은 임의의 자연수 n에 대하여, n보다 크고, 2n보다 작거나 같은 소수는 적어도 하나 존재한다는 내용을 담고 있다.\n",
    "\n",
    "이 명제는 조제프 베르트랑이 1845년에 추측했고, 파프누티 체비쇼프가 1850년에 증명했다.\n",
    "\n",
    "예를 들어, 10보다 크고, 20보다 작거나 같은 소수는 4개가 있다. (11, 13, 17, 19) 또, 14보다 크고, 28보다 작거나 같은 소수는 3개가 있다. (17,19, 23)\n",
    "\n",
    "n이 주어졌을 때, n보다 크고, 2n보다 작거나 같은 소수의 개수를 구하는 프로그램을 작성하시오. \n",
    "\n",
    "## 입력\n",
    "입력은 여러 개의 테스트 케이스로 이루어져 있다. 각 케이스는 n을 포함하며, 한 줄로 이루어져 있다. (n ≤ 123456)\n",
    "\n",
    "입력의 마지막에는 0이 주어진다.\n",
    "\n",
    "## 출력\n",
    "각 테스트 케이스에 대해서, n보다 크고, 2n보다 작거나 같은 소수의 개수를 출력한다."
   ]
  },
  {
   "cell_type": "markdown",
   "metadata": {},
   "source": [
    "# 1085번 직사각형에서 탈출\n",
    "\n",
    "## 문제\n",
    "한수는 지금 (x, y)에 있다. 직사각형의 왼쪽 아래 꼭짓점은 (0, 0)에 있고, 오른쪽 위 꼭짓점은 (w, h)에 있다. 직사각형의 경계선까지 가는 거리의 최솟값을 구하는 프로그램을 작성하시오.\n",
    "\n",
    "## 입력\n",
    "첫째 줄에 x y w h가 주어진다. w와 h는 1,000보다 작거나 같은 자연수이고, x는 1보다 크거나 같고, w-1보다 작거나 같은 자연수이고, y는 1보다 크거나 같고, h-1보다 작거나 같은 자연수이다.\n",
    "\n",
    "## 출력\n",
    "첫째 줄에 문제의 정답을 출력한다."
   ]
  },
  {
   "cell_type": "code",
   "execution_count": 36,
   "metadata": {},
   "outputs": [
    {
     "name": "stdin",
     "output_type": "stream",
     "text": [
      " 5 2 10 3\n"
     ]
    },
    {
     "name": "stdout",
     "output_type": "stream",
     "text": [
      "나도 몰라\n"
     ]
    }
   ],
   "source": [
    "x, y, w, h = map(int, input().split())\n",
    "\n",
    "if x > w/2 and y > h/2:\n",
    "    print('1사분면')\n",
    "elif x < w/2 and y > h/2:\n",
    "    print('2사분면')\n",
    "elif x < w/2 and y < h/2:\n",
    "    print('3사분면')\n",
    "elif x > w/2 and y < h/2:\n",
    "    print('4사분면')\n",
    "else: print('나도 몰라')"
   ]
  },
  {
   "cell_type": "code",
   "execution_count": null,
   "metadata": {},
   "outputs": [],
   "source": []
  }
 ],
 "metadata": {
  "kernelspec": {
   "display_name": "Python 3",
   "language": "python",
   "name": "python3"
  },
  "language_info": {
   "codemirror_mode": {
    "name": "ipython",
    "version": 3
   },
   "file_extension": ".py",
   "mimetype": "text/x-python",
   "name": "python",
   "nbconvert_exporter": "python",
   "pygments_lexer": "ipython3",
   "version": "3.8.1"
  }
 },
 "nbformat": 4,
 "nbformat_minor": 4
}
