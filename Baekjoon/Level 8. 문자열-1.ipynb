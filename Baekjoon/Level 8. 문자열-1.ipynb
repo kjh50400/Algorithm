{
 "cells": [
  {
   "cell_type": "markdown",
   "metadata": {},
   "source": [
    "# 11654. 아스키 코드\n",
    "\n",
    "## 문제\n",
    "\n",
    "알파벳 소문자, 대문자, 숫자 0-9중 하나가 주어졌을 때, 주어진 글자의 아스키 코드값을 출력하는 프로그램을 작성하시오.\n",
    "\n",
    "## 입력\n",
    "\n",
    "알파벳 소문자, 대문자, 숫자 0-9 중 하나가 첫째 줄에 주어진다.\n",
    "\n",
    "## 출력\n",
    "\n",
    "입력으로 주어진 글자의 아스키 코드 값을 출력한다."
   ]
  },
  {
   "cell_type": "code",
   "execution_count": 13,
   "metadata": {},
   "outputs": [
    {
     "name": "stdin",
     "output_type": "stream",
     "text": [
      " A\n"
     ]
    },
    {
     "name": "stdout",
     "output_type": "stream",
     "text": [
      "65\n"
     ]
    }
   ],
   "source": [
    "print(ord(input()))"
   ]
  },
  {
   "cell_type": "markdown",
   "metadata": {},
   "source": [
    "# 11720번 숫자의 합\n",
    "\n",
    "## 문제\n",
    "N개의 숫자가 공백 없이 쓰여있다. 이 숫자를 모두 합해서 출력하는 프로그램을 작성하시오.\n",
    "\n",
    "## 입력\n",
    "첫째 줄에 숫자의 개수 N (1 ≤ N ≤ 100)이 주어진다. 둘째 줄에 숫자 N개가 공백없이 주어진다.\n",
    "\n",
    "## 출력\n",
    "입력으로 주어진 숫자 N개의 합을 출력한다."
   ]
  },
  {
   "cell_type": "code",
   "execution_count": 22,
   "metadata": {},
   "outputs": [
    {
     "name": "stdin",
     "output_type": "stream",
     "text": [
      " 5\n",
      " 54321\n"
     ]
    },
    {
     "name": "stdout",
     "output_type": "stream",
     "text": [
      "15\n"
     ]
    }
   ],
   "source": [
    "a = int(input())\n",
    "b = input()\n",
    "\n",
    "result = 0\n",
    "for i in range(a):\n",
    "    result += int(b[i])\n",
    "    \n",
    "print(result)"
   ]
  },
  {
   "cell_type": "markdown",
   "metadata": {},
   "source": [
    "# 10809번 알파벳 찾기\n",
    "\n",
    "## 문제\n",
    "알파벳 소문자로만 이루어진 단어 S가 주어진다. 각각의 알파벳에 대해서, 단어에 포함되어 있는 경우에는 처음 등장하는 위치를, 포함되어 있지 않은 경우에는 -1을 출력하는 프로그램을 작성하시오.\n",
    "\n",
    "## 입력\n",
    "첫째 줄에 단어 S가 주어진다. 단어의 길이는 100을 넘지 않으며, 알파벳 소문자로만 이루어져 있다.\n",
    "\n",
    "## 출력\n",
    "각각의 알파벳에 대해서, a가 처음 등장하는 위치, b가 처음 등장하는 위치, ... z가 처음 등장하는 위치를 공백으로 구분해서 출력한다.\n",
    "\n",
    "만약, 어떤 알파벳이 단어에 포함되어 있지 않다면 -1을 출력한다. 단어의 첫 번째 글자는 0번째 위치이고, 두 번째 글자는 1번째 위치이다."
   ]
  },
  {
   "cell_type": "code",
   "execution_count": 1,
   "metadata": {},
   "outputs": [
    {
     "name": "stdin",
     "output_type": "stream",
     "text": [
      " 1\n"
     ]
    },
    {
     "name": "stdout",
     "output_type": "stream",
     "text": [
      "['a', 'b', 'c', 'd', 'e', 'f', 'g', 'h', 'i', 'j', 'k', 'l', 'm', 'n', 'o', 'p', 'q', 'r', 's', 't', 'u', 'v', 'w', 'x', 'y', 'z']\n"
     ]
    }
   ],
   "source": [
    "s = input()\n",
    "\n",
    "alpha = [i for i in range(97, 123)]\n",
    "for i in range(len(alpha)):\n",
    "    alpha[i] = chr(alpha[i])\n",
    "\n",
    "print(alpha)"
   ]
  },
  {
   "cell_type": "code",
   "execution_count": 2,
   "metadata": {},
   "outputs": [],
   "source": [
    "s = list(s)"
   ]
  },
  {
   "cell_type": "code",
   "execution_count": 3,
   "metadata": {},
   "outputs": [
    {
     "name": "stdout",
     "output_type": "stream",
     "text": [
      "[-1, -1, -1, -1, -1, -1, -1, -1, -1, -1, -1, -1, -1, -1, -1, -1, -1, -1, -1, -1, -1, -1, -1, -1, -1, -1]\n"
     ]
    }
   ],
   "source": [
    "result = []\n",
    "for a in alpha:\n",
    "    if a in s:\n",
    "        result.append(s.index(a))\n",
    "    else: result.append(-1)\n",
    "        \n",
    "print(result)"
   ]
  },
  {
   "cell_type": "code",
   "execution_count": 16,
   "metadata": {},
   "outputs": [
    {
     "name": "stdin",
     "output_type": "stream",
     "text": [
      " baekjoon\n"
     ]
    },
    {
     "name": "stdout",
     "output_type": "stream",
     "text": [
      "['b', 'a', 'e', 'k', 'j', 'o', 'o', 'n']\n",
      "[1, 0, -1, -1, 2, -1, -1, -1, -1, 4, 3, -1, -1, 7, 5, -1, -1, -1, -1, -1, -1, -1, -1, -1, -1, -1]\n",
      "[,1,,, ,0,,, ,-,1,,, ,-,1,,, ,2,,, ,-,1,,, ,-,1,,, ,-,1,,, ,-,1,,, ,4,,, ,3,,, ,-,1,,, ,-,1,,, ,7,,, ,5,,, ,-,1,,, ,-,1,,, ,-,1,,, ,-,1,,, ,-,1,,, ,-,1,,, ,-,1,,, ,-,1,,, ,-,1,,, ,-,1,,, ,-,1,]\n"
     ]
    }
   ],
   "source": [
    "s = list(input())\n",
    "\n",
    "alpha = [i for i in range(97, 123)]\n",
    "for i in range(len(alpha)):\n",
    "    alpha[i] = chr(alpha[i])\n",
    "\n",
    "# print(alpha)\n",
    "print(s)\n",
    "\n",
    "result = []\n",
    "for a in alpha:\n",
    "    if a in s:\n",
    "        result.append(s.index(a))\n",
    "    else: result.append(-1)\n",
    "        \n",
    "print(result)\n",
    "result=\",\"join(result)\n"
   ]
  },
  {
   "cell_type": "code",
   "execution_count": 18,
   "metadata": {},
   "outputs": [
    {
     "name": "stdin",
     "output_type": "stream",
     "text": [
      " baekjoon\n"
     ]
    },
    {
     "name": "stdout",
     "output_type": "stream",
     "text": [
      "1 0 -1 -1 2 -1 -1 -1 -1 4 3 -1 -1 7 5 -1 -1 -1 -1 -1 -1 -1 -1 -1 -1 -1 "
     ]
    }
   ],
   "source": [
    "s = list(input())\n",
    "\n",
    "alpha = [i for i in range(97, 123)]\n",
    "for i in range(len(alpha)):\n",
    "    alpha[i] = chr(alpha[i])\n",
    "\n",
    "# print(alpha)\n",
    "# print(s)\n",
    "\n",
    "for a in alpha:\n",
    "    if a in s:\n",
    "        print(s.index(a), end=' ')\n",
    "    else: print(-1, end=' ')"
   ]
  },
  {
   "cell_type": "markdown",
   "metadata": {},
   "source": [
    "# 2675번 문자열 반복\n",
    "\n",
    "## 문제\n",
    "\n",
    "문자열 S를 입력받은 후에, 각 문자를 R번 반복해 새 문자열 P를 만든 후 출력하는 프로그램을 작성하시오. 즉, 첫 번째 문자를 R번 반복하고, 두 번째 문자를 R번 반복하는 식으로 P를 만들면 된다. S에는 QR Code \"alphanumeric\" 문자만 들어있다.\n",
    "\n",
    "QR Code \"alphanumeric\" 문자는 0123456789ABCDEFGHIJKLMNOPQRSTUVWXYZ\\$%*+-./: 이다.\n",
    "\n",
    "## 입력\n",
    "\n",
    "첫째 줄에 테스트 케이스의 개수 T(1 ≤ T ≤ 1,000)가 주어진다. 각 테스트 케이스는 반복 횟수 R(1 ≤ R ≤ 8), 문자열 S가 공백으로 구분되어 주어진다. S의 길이는 적어도 1이며, 20글자를 넘지 않는다. \n",
    "\n",
    "## 출력\n",
    "\n",
    "각 테스트 케이스에 대해 P를 출력한다."
   ]
  },
  {
   "cell_type": "code",
   "execution_count": 26,
   "metadata": {},
   "outputs": [
    {
     "name": "stdin",
     "output_type": "stream",
     "text": [
      " 2\n",
      " 3 ABC\n",
      " 5 /HTP\n"
     ]
    },
    {
     "name": "stdout",
     "output_type": "stream",
     "text": [
      "2\n",
      "<class 'int'> \n",
      "\n",
      "3 - ABC\n",
      "<class 'str'> - <class 'str'> \n",
      "\n",
      "5 - /HTP\n",
      "<class 'str'> - <class 'str'> \n",
      "\n",
      "AAABBBCCC\n",
      "/////HHHHHTTTTTPPPPP"
     ]
    }
   ],
   "source": [
    "t = int(input())\n",
    "\n",
    "r1, s1 = input().split()\n",
    "r2, s2 = input().split()\n",
    "\n",
    "print(t)\n",
    "print(type(t), '\\n')\n",
    "\n",
    "print(r1, \"-\" ,s1)\n",
    "print(type(r1), \"-\" ,type(s1), '\\n')\n",
    "\n",
    "print(r2, \"-\" ,s2)\n",
    "print(type(r2), \"-\" ,type(s2), '\\n')\n",
    "\n",
    "r1 = int(r1)\n",
    "r2 = int(r2)\n",
    "\n",
    "for s in s1:\n",
    "    print(s*r1, end='')\n",
    "    \n",
    "print(end='\\n')\n",
    "for s in s2:\n",
    "    print(s*r2, end='')\n"
   ]
  },
  {
   "cell_type": "code",
   "execution_count": 32,
   "metadata": {},
   "outputs": [
    {
     "name": "stdin",
     "output_type": "stream",
     "text": [
      " 2\n",
      " 3 ABC\n"
     ]
    },
    {
     "name": "stdout",
     "output_type": "stream",
     "text": [
      "AAABBBCCC\n"
     ]
    },
    {
     "name": "stdin",
     "output_type": "stream",
     "text": [
      " 5 /HTP\n"
     ]
    },
    {
     "name": "stdout",
     "output_type": "stream",
     "text": [
      "/////HHHHHTTTTTPPPPP\n"
     ]
    }
   ],
   "source": [
    "t = int(input())\n",
    "\n",
    "for i in range(t):\n",
    "    r, s = input().split()\n",
    "    r = int(r)\n",
    "    \n",
    "    for a in s:\n",
    "        print(a*r, end='')\n",
    "    print()"
   ]
  },
  {
   "cell_type": "markdown",
   "metadata": {},
   "source": [
    "# 1157번 단어 공부\n",
    "\n",
    "## 문제\n",
    "\n",
    "알파벳 대소문자로 된 단어가 주어지면, 이 단어에서 가장 많이 사용된 알파벳이 무엇인지 알아내는 프로그램을 작성하시오. 단, 대문자와 소문자를 구분하지 않는다.\n",
    "\n",
    "## 입력\n",
    "\n",
    "첫째 줄에 알파벳 대소문자로 이루어진 단어가 주어진다. 주어지는 단어의 길이는 1,000,000을 넘지 않는다.\n",
    "\n",
    "## 출력\n",
    "\n",
    "첫째 줄에 이 단어에서 가장 많이 사용된 알파벳을 대문자로 출력한다. 단, 가장 많이 사용된 알파벳이 여러 개 존재하는 경우에는 ?를 출력한다."
   ]
  },
  {
   "cell_type": "code",
   "execution_count": 33,
   "metadata": {},
   "outputs": [
    {
     "name": "stdin",
     "output_type": "stream",
     "text": [
      " Mississipi\n"
     ]
    },
    {
     "name": "stdout",
     "output_type": "stream",
     "text": [
      "{'p': 1, 'm': 1, 'i': 4, 's': 4}\n"
     ]
    }
   ],
   "source": [
    "voca = input().lower()\n",
    "alpha = set(voca)\n",
    "result = {}\n",
    "\n",
    "for a in alpha:\n",
    "    result[a]=voca.count(a)\n",
    "    \n",
    "print(result)"
   ]
  },
  {
   "cell_type": "code",
   "execution_count": 55,
   "metadata": {},
   "outputs": [
    {
     "name": "stdin",
     "output_type": "stream",
     "text": [
      " z\n"
     ]
    },
    {
     "name": "stdout",
     "output_type": "stream",
     "text": [
      "{'z': 1}\n",
      "[('z', 1)]\n",
      "Z \n",
      "\n",
      "Z\n"
     ]
    }
   ],
   "source": [
    "voca = input().lower()\n",
    "alpha = set(voca)\n",
    "result = {}\n",
    "\n",
    "for a in alpha:\n",
    "    result[a]=voca.count(a)\n",
    "    \n",
    "print(result)\n",
    "\n",
    "result = sorted(result.items(), key=lambda x: x[1])\n",
    "\n",
    "print(result)\n",
    "print(result[-1][0].upper(), '\\n')\n",
    "\n",
    "if len(result) == 1:\n",
    "    print(result[-1][0].upper())\n",
    "elif result[-1][1] == result[-2][1]:\n",
    "    print('?')\n",
    "else: print(result[-1][0].upper())"
   ]
  },
  {
   "cell_type": "markdown",
   "metadata": {},
   "source": [
    "# 1152번 단어의 개수\n",
    "\n",
    "## 문제\n",
    "\n",
    "영어 대소문자와 띄어쓰기만으로 이루어진 문자열이 주어진다. 이 문자열에는 몇 개의 단어가 있을까? 이를 구하는 프로그램을 작성하시오. 단, 한 단어가 여러 번 등장하면 등장한 횟수만큼 모두 세어야 한다.\n",
    "\n",
    "## 입력\n",
    "\n",
    "첫 줄에 영어 대소문자와 띄어쓰기로 이루어진 문자열이 주어진다. 이 문자열의 길이는 1,000,000을 넘지 않는다. 단어는 띄어쓰기 한 개로 구분되며, 공백이 연속해서 나오는 경우는 없다. 또한 문자열의 앞과 뒤에는 공백이 있을 수도 있다.\n",
    "\n",
    "## 출력\n",
    "\n",
    "첫째 줄에 단어의 개수를 출력한다."
   ]
  },
  {
   "cell_type": "code",
   "execution_count": 5,
   "metadata": {},
   "outputs": [
    {
     "name": "stdin",
     "output_type": "stream",
     "text": [
      " Teullinika Teullyeotzi \n"
     ]
    },
    {
     "name": "stdout",
     "output_type": "stream",
     "text": [
      "2\n"
     ]
    }
   ],
   "source": [
    "s = input().strip().split()\n",
    "\n",
    "print(len(s))"
   ]
  },
  {
   "cell_type": "markdown",
   "metadata": {},
   "source": [
    "# 2908번 상수\n",
    "\n",
    "## 문제\n",
    "\n",
    "상근이의 동생 상수는 수학을 정말 못한다. 상수는 숫자를 읽는데 문제가 있다. 이렇게 수학을 못하는 상수를 위해서 상근이는 수의 크기를 비교하는 문제를 내주었다. 상근이는 세 자리 수 두 개를 칠판에 써주었다. 그 다음에 크기가 큰 수를 말해보라고 했다.\n",
    "\n",
    "상수는 수를 다른 사람과 다르게 거꾸로 읽는다. 예를 들어, 734과 893을 칠판에 적었다면, 상수는 이 수를 437과 398로 읽는다. 따라서, 상수는 두 수중 큰 수인 437을 큰 수라고 말할 것이다.\n",
    "\n",
    "두 수가 주어졌을 때, 상수의 대답을 출력하는 프로그램을 작성하시오.\n",
    "\n",
    "## 입력\n",
    "\n",
    "첫째 줄에 상근이가 칠판에 적은 두 수 A와 B가 주어진다. 두 수는 같지 않은 세 자리 수이며, 0이 포함되어 있지 않다.\n",
    "\n",
    "## 출력\n",
    "\n",
    "첫째 줄에 상수의 대답을 출력한다."
   ]
  },
  {
   "cell_type": "code",
   "execution_count": 10,
   "metadata": {},
   "outputs": [
    {
     "name": "stdin",
     "output_type": "stream",
     "text": [
      " 734 893\n"
     ]
    },
    {
     "name": "stdout",
     "output_type": "stream",
     "text": [
      "<class 'str'>\n",
      "734\n",
      "<class 'str'>\n",
      "437\n",
      "437\n"
     ]
    }
   ],
   "source": [
    "a, b = input().split()\n",
    "\n",
    "# print(type(a))\n",
    "# print(a)\n",
    "\n",
    "a = a[2]+a[1]+a[0]\n",
    "\n",
    "# print(type(a))\n",
    "# print(a)\n",
    "\n",
    "b = b[2]+b[1]+b[0]\n",
    "\n",
    "a = int(a)\n",
    "b = int(b)\n",
    "\n",
    "if a > b:\n",
    "    print(a)\n",
    "else: print(b)"
   ]
  },
  {
   "cell_type": "markdown",
   "metadata": {},
   "source": [
    "# 5622번 다이얼\n",
    "\n",
    "## 문제\n",
    "\n",
    "상근이의 할머니는 아래 그림과 같이 오래된 다이얼 전화기를 사용한다. [원본 문제 링크](https://www.acmicpc.net/problem/5622)\n",
    "\n",
    "전화를 걸고 싶은 번호가 있다면, 숫자를 하나를 누른 다음에 금속 핀이 있는 곳 까지 시계방향으로 돌려야 한다. 숫자를 하나 누르면 다이얼이 처음 위치로 돌아가고, 다음 숫자를 누르려면 다이얼을 처음 위치에서 다시 돌려야 한다.\n",
    "\n",
    "숫자 1을 걸려면 총 2초가 필요하다. 1보다 큰 수를 거는데 걸리는 시간은 이보다 더 걸리며, 한 칸 옆에 있는 숫자를 걸기 위해선 1초씩 더 걸린다.\n",
    "\n",
    "상근이의 할머니는 전화 번호를 각 숫자에 해당하는 문자로 외운다. 즉, 어떤 단어를 걸 때, 각 알파벳에 해당하는 숫자를 걸면 된다. 예를 들어, UNUCIC는 868242와 같다.\n",
    "\n",
    "할머니가 외운 단어가 주어졌을 때, 이 전화를 걸기 위해서 필요한 시간을 구하는 프로그램을 작성하시오.\n",
    "\n",
    "## 입력\n",
    "\n",
    "첫째 줄에 알파벳 대문자로 이루어진 단어가 주어진다. 단어는 2글자~15글자로 이루어져 있다.\n",
    "\n",
    "## 출력\n",
    "\n",
    "첫째 줄에 다이얼을 걸기 위해서 필요한 시간을 출력한다."
   ]
  },
  {
   "cell_type": "code",
   "execution_count": 1,
   "metadata": {},
   "outputs": [
    {
     "name": "stdin",
     "output_type": "stream",
     "text": [
      " unucic\n"
     ]
    },
    {
     "name": "stdout",
     "output_type": "stream",
     "text": [
      "36\n"
     ]
    }
   ],
   "source": [
    "voca = input().upper()\n",
    "\n",
    "result = 0\n",
    "\n",
    "for v in voca:\n",
    "    if 65 <= ord(v) <=67:\n",
    "        result += 3\n",
    "    elif 68 <= ord(v) <=70:\n",
    "        result += 4\n",
    "    elif 71 <= ord(v) <=73:\n",
    "        result += 5\n",
    "    elif 74 <= ord(v) <=76:\n",
    "        result += 6\n",
    "    elif 77 <= ord(v) <=79:\n",
    "        result += 7\n",
    "    elif 80 <= ord(v) <=83:\n",
    "        result += 8\n",
    "    elif 84 <= ord(v) <=86:\n",
    "        result += 9\n",
    "    else: result += 10\n",
    "       \n",
    "print(result)"
   ]
  },
  {
   "cell_type": "markdown",
   "metadata": {},
   "source": [
    "# 2941번 크로아티아 알파벳\n",
    "> [원본 문제](https://www.acmicpc.net/problem/2941)\n",
    "\n",
    "## 문제\n",
    "\n",
    "예전에는 운영체제에서 크로아티아 알파벳을 입력할 수가 없었다. 따라서, 다음과 같이 크로아티아 알파벳을 변경해서 입력했다.\n",
    "\n",
    "\n",
    "크로아티아 알파벳 / 변경  \n",
    "č / c=  \n",
    "ć / c-  \n",
    "dž / dz=  \n",
    "đ / d-  \n",
    "lj / lj  \n",
    "nj / nj  \n",
    "š / s=  \n",
    "ž / z=  \n",
    "\n",
    "예를 들어, ljes=njak은 크로아티아 알파벳 6개(lj, e, š, nj, a, k)로 이루어져 있다. 단어가 주어졌을 때, 몇 개의 크로아티아 알파벳으로 이루어져 있는지 출력한다.\n",
    "\n",
    "dž는 무조건 하나의 알파벳으로 쓰이고, d와 ž가 분리된 것으로 보지 않는다. lj와 nj도 마찬가지이다. 위 목록에 없는 알파벳은 한 글자씩 센다.\n",
    "\n",
    "## 입력\n",
    "\n",
    "첫째 줄에 최대 100글자의 단어가 주어진다. 알파벳 소문자와 '-', '='로만 이루어져 있다.\n",
    "\n",
    "단어는 크로아티아 알파벳으로 이루어져 있다. 문제 설명의 표에 나와있는 알파벳은 변경된 형태로 입력된다.\n",
    "\n",
    "## 출력\n",
    "\n",
    "입력으로 주어진 단어가 몇 개의 크로아티아 알파벳으로 이루어져 있는지 출력한다."
   ]
  },
  {
   "cell_type": "code",
   "execution_count": 4,
   "metadata": {},
   "outputs": [
    {
     "name": "stdin",
     "output_type": "stream",
     "text": [
      " ddz=z=\n"
     ]
    },
    {
     "name": "stdout",
     "output_type": "stream",
     "text": [
      "3\n"
     ]
    }
   ],
   "source": [
    "c = input()\n",
    "\n",
    "result = 0\n",
    "\n",
    "for i in range(len(c)):\n",
    "    if c[i] == 'c':\n",
    "        if c[i:i+2] == 'c=' or c[i:i+2] == 'c-':\n",
    "            result += -1\n",
    "    elif c[i] == 'l':\n",
    "        if c[i:i+2] == 'lj':\n",
    "            result += -1\n",
    "    elif c[i] == 'n':\n",
    "        if c[i:i+2] == 'nj':\n",
    "            result += -1\n",
    "    elif c[i] == 's':\n",
    "        if c[i:i+2] == 's=':\n",
    "            result += -1\n",
    "    elif c[i] == 'd':\n",
    "        if c[i:i+2] == 'd-':\n",
    "            result += -1\n",
    "    elif c[i] == 'z':\n",
    "        if c[i-1:i+2] == 'dz=':\n",
    "            result += -2\n",
    "        elif c[i:i+2] == 'z=':\n",
    "            result += -1\n",
    "    result += 1\n",
    "\n",
    "print(result)"
   ]
  },
  {
   "cell_type": "markdown",
   "metadata": {},
   "source": [
    "# 1316번 그룹 단어 체커\n",
    "\n",
    "## 문제\n",
    "\n",
    "그룹 단어란 단어에 존재하는 모든 문자에 대해서, 각 문자가 연속해서 나타나는 경우만을 말한다. 예를 들면, ccazzzzbb는 c, a, z, b가 모두 연속해서 나타나고, kin도 k, i, n이 연속해서 나타나기 때문에 그룹 단어이지만, aabbbccb는 b가 떨어져서 나타나기 때문에 그룹 단어가 아니다.\n",
    "\n",
    "단어 N개를 입력으로 받아 그룹 단어의 개수를 출력하는 프로그램을 작성하시오.\n",
    "\n",
    "## 입력\n",
    "\n",
    "첫째 줄에 단어의 개수 N이 들어온다. N은 100보다 작거나 같은 자연수이다. 둘째 줄부터 N개의 줄에 단어가 들어온다. 단어는 알파벳 소문자로만 되어있고 중복되지 않으며, 길이는 최대 100이다.\n",
    "\n",
    "## 출력\n",
    "\n",
    "첫째 줄에 그룹 단어의 개수를 출력한다."
   ]
  },
  {
   "cell_type": "code",
   "execution_count": 59,
   "metadata": {},
   "outputs": [
    {
     "name": "stdin",
     "output_type": "stream",
     "text": [
      " 1\n",
      " abcabc\n"
     ]
    },
    {
     "name": "stdout",
     "output_type": "stream",
     "text": [
      "a\n",
      "b\n",
      "* -1 *\n",
      "-1\n"
     ]
    }
   ],
   "source": [
    "# KI+KI\n",
    "n = int(input())\n",
    "\n",
    "voca = []\n",
    "result = []\n",
    "\n",
    "for i in range(n):\n",
    "    voca.append(input())\n",
    "\n",
    "for ex in voca:\n",
    "    result.append(ex[0])\n",
    "\n",
    "    if len(ex) > 1:\n",
    "        for i in range(1,len(ex)):\n",
    "            if ex[i] != result[-1]:\n",
    "                if ex[i] in result:\n",
    "                    n += -1\n",
    "                    break\n",
    "                else: result.append(ex[i])\n",
    "    result = []\n",
    "\n",
    "print(n)"
   ]
  },
  {
   "cell_type": "code",
   "execution_count": 44,
   "metadata": {},
   "outputs": [
    {
     "name": "stdin",
     "output_type": "stream",
     "text": [
      " 4\n",
      " aba\n",
      " abab\n",
      " abcabc\n",
      " a\n"
     ]
    },
    {
     "name": "stdout",
     "output_type": "stream",
     "text": [
      "1\n"
     ]
    }
   ],
   "source": [
    "# KI+Me\n",
    "n = int(input())\n",
    "\n",
    "voca = []\n",
    "result = []\n",
    "num = 0\n",
    "\n",
    "for i in range(n):\n",
    "    voca.append(input())\n",
    "\n",
    "for ex in voca:\n",
    "    result.append(ex[0])\n",
    "\n",
    "    if len(ex) > 1:\n",
    "        for i in range(1,len(ex)):\n",
    "            if ex[i] != result[-1]:\n",
    "                result.append(ex[i])\n",
    "    \n",
    "    if len(result) == len(set(ex)):\n",
    "        num += 1\n",
    "        \n",
    "    result = []\n",
    "    \n",
    "print(num)"
   ]
  },
  {
   "cell_type": "code",
   "execution_count": 36,
   "metadata": {},
   "outputs": [
    {
     "name": "stdin",
     "output_type": "stream",
     "text": [
      " aabbbccb\n"
     ]
    },
    {
     "name": "stdout",
     "output_type": "stream",
     "text": [
      "{'c', 'b', 'a'}\n",
      "['a', 'b', 'c', 'b']\n",
      "\n",
      "0\n"
     ]
    }
   ],
   "source": [
    "# Me\n",
    "ex = input()\n",
    "result = []\n",
    "num = 0\n",
    "\n",
    "result.append(ex[0])\n",
    "\n",
    "if len(ex) > 1:\n",
    "    for i in range(1,len(ex)):\n",
    "        if ex[i] != result[-1]:\n",
    "            result.append(ex[i])\n",
    "\n",
    "print(set(ex))\n",
    "print(result)\n",
    "print()\n",
    "if len(result)==len(set(ex)):\n",
    "    print(1)\n",
    "else: print(0)"
   ]
  },
  {
   "cell_type": "markdown",
   "metadata": {},
   "source": [
    "나의 그룹 단어인지 판별 기준"
   ]
  },
  {
   "cell_type": "code",
   "execution_count": 41,
   "metadata": {},
   "outputs": [
    {
     "name": "stdin",
     "output_type": "stream",
     "text": [
      " aba\n"
     ]
    },
    {
     "name": "stdout",
     "output_type": "stream",
     "text": [
      "그룹단어 아님\n",
      "그룹단어\n"
     ]
    }
   ],
   "source": [
    "# KI\n",
    "ex = input()\n",
    "result = []\n",
    "num = 0\n",
    "\n",
    "result.append(ex[0])\n",
    "\n",
    "if len(ex) > 1:\n",
    "    for i in range(1,len(ex)):\n",
    "        if ex[i] != result[-1]:\n",
    "            if ex[i] in result:\n",
    "                print('그룹단어 아님')\n",
    "            else: result.append(ex[i])\n",
    "\n",
    "print('그룹단어')"
   ]
  },
  {
   "cell_type": "markdown",
   "metadata": {},
   "source": [
    "PKI의 그룹 단어 판별 기준"
   ]
  },
  {
   "cell_type": "markdown",
   "metadata": {},
   "source": [
    "이번 문제는 헤메고 있다가 PKI님의 도움을 받아 풀었다. 다만 그룹 단어의 판별에 있어 기존에 헤매고 있을 때 발견한 나의 기준을 적용해보기도 했다.\n",
    "\n",
    "그리고 문제를 풀고난 후 다른 사람의 풀이와 비교하는 시간이 가져야겠다는 생각을 더욱 공고히 하게 된 날이었다.\n",
    "\n",
    "아래의 말도 안되게 심플한 해답을 보고 나니, 여러 생각이 든다.\n",
    "\n",
    "```python\n",
    "# 아이디: baek4055 님의 풀이\n",
    "result = 0\n",
    "for i in range(int(input())):\n",
    "    word = input()\n",
    "    if list(word) == sorted(word, key=word.find):\n",
    "        result += 1\n",
    "print(result)\n",
    "```\n",
    "\n"
   ]
  }
 ],
 "metadata": {
  "kernelspec": {
   "display_name": "Python 3",
   "language": "python",
   "name": "python3"
  },
  "language_info": {
   "codemirror_mode": {
    "name": "ipython",
    "version": 3
   },
   "file_extension": ".py",
   "mimetype": "text/x-python",
   "name": "python",
   "nbconvert_exporter": "python",
   "pygments_lexer": "ipython3",
   "version": "3.6.10"
  }
 },
 "nbformat": 4,
 "nbformat_minor": 4
}
