{
  "nbformat": 4,
  "nbformat_minor": 0,
  "metadata": {
    "colab": {
      "name": "DonbinNa.ipynb",
      "provenance": [],
      "collapsed_sections": [],
      "authorship_tag": "ABX9TyNlUjMPk40JUJMhxIO+W9jv",
      "include_colab_link": true
    },
    "kernelspec": {
      "name": "python3",
      "display_name": "Python 3"
    }
  },
  "cells": [
    {
      "cell_type": "markdown",
      "metadata": {
        "id": "view-in-github",
        "colab_type": "text"
      },
      "source": [
        "<a href=\"https://colab.research.google.com/github/kjh50400/Coding-test/blob/master/DonbinNa.ipynb\" target=\"_parent\"><img src=\"https://colab.research.google.com/assets/colab-badge.svg\" alt=\"Open In Colab\"/></a>"
      ]
    },
    {
      "cell_type": "markdown",
      "metadata": {
        "id": "Dm-FWEYvZ8Oj"
      },
      "source": [
        "# 이것이 취업을 위한 코딩 테스트다 with 파이썬"
      ]
    },
    {
      "cell_type": "markdown",
      "metadata": {
        "id": "AYuu-lCLnp3C"
      },
      "source": [
        "## 1. 코딩 테스트 개요 및 파이썬 문법"
      ]
    },
    {
      "cell_type": "markdown",
      "metadata": {
        "id": "-xeyA5m4ntXj"
      },
      "source": [
        "### 실수형\n"
      ]
    },
    {
      "cell_type": "code",
      "metadata": {
        "colab": {
          "base_uri": "https://localhost:8080/"
        },
        "id": "umiepsSNZmEW",
        "outputId": "054fd7a9-8a7e-437d-8154-7ab3d47ec161"
      },
      "source": [
        "a = 5.\n",
        "print(type(a))\n",
        "print(a)"
      ],
      "execution_count": 2,
      "outputs": [
        {
          "output_type": "stream",
          "text": [
            "<class 'float'>\n",
            "5.0\n"
          ],
          "name": "stdout"
        }
      ]
    },
    {
      "cell_type": "code",
      "metadata": {
        "colab": {
          "base_uri": "https://localhost:8080/"
        },
        "id": "yxUx8F2Jn6Gf",
        "outputId": "b9296de7-c649-4a4b-d3eb-61b98afb0fcb"
      },
      "source": [
        "a = -.7\n",
        "print(a)"
      ],
      "execution_count": 3,
      "outputs": [
        {
          "output_type": "stream",
          "text": [
            "-0.7\n"
          ],
          "name": "stdout"
        }
      ]
    },
    {
      "cell_type": "markdown",
      "metadata": {
        "id": "pCtw9lW_oDnI"
      },
      "source": [
        "### 지수 표현 방식\n",
        "\n",
        "e나 E를 이용하여 지수 표현 방식 이용.\n",
        "* e, E 다음에 오는 수는 10의 지수부\n",
        "\n",
        "기본적으로 지수 표현은 실수형. 따라서 필요에 따라 정수형으로 바꿔야 한다.\n",
        "\n",
        "보통 최단 경로 알고리즘에서는 도달할 수 없는 노드에 대하여 최단 거리를 무한(INF)로 설정하곤 한다. (아래 셀 참조)"
      ]
    },
    {
      "cell_type": "code",
      "metadata": {
        "colab": {
          "base_uri": "https://localhost:8080/"
        },
        "id": "bhpASGFhoCMt",
        "outputId": "589674fa-d721-41cf-f2bd-b588484d3a3b"
      },
      "source": [
        "INF = 1e9\n",
        "print(INF)"
      ],
      "execution_count": 4,
      "outputs": [
        {
          "output_type": "stream",
          "text": [
            "1000000000.0\n"
          ],
          "name": "stdout"
        }
      ]
    },
    {
      "cell_type": "code",
      "metadata": {
        "colab": {
          "base_uri": "https://localhost:8080/"
        },
        "id": "ME2idawppKh7",
        "outputId": "b3b4a315-e3d2-4cd9-c890-24ea03135b62"
      },
      "source": [
        "INF = int(1e9)\n",
        "print(INF)"
      ],
      "execution_count": 5,
      "outputs": [
        {
          "output_type": "stream",
          "text": [
            "1000000000\n"
          ],
          "name": "stdout"
        }
      ]
    },
    {
      "cell_type": "markdown",
      "metadata": {
        "id": "SuOGg5ldpSfb"
      },
      "source": [
        "### 실수형 더 알아보기\n",
        "\n",
        "오늘날 가장 널리 쓰이는 IEEE754 표준에서는 실수형을 저장하기 위해 4바이트 혹은 8바이트의 고정된 크기의 메모리에 할당.\n",
        "\n",
        "따라서 실수 정보를 표현하는 정확도에 한계 존재.\n",
        "\n",
        "예)   \n",
        "10진수 체계에서는 0.3과 0.6을 더한 값이 0.9로 정확하게 나타남.  \n",
        "하지만 2진수에서는 0.9를 정확히 표현할 수 있는 방법이 없음.\n",
        "\n",
        "`round()`를 사용"
      ]
    },
    {
      "cell_type": "code",
      "metadata": {
        "colab": {
          "base_uri": "https://localhost:8080/"
        },
        "id": "m0a5Fwe4pNyG",
        "outputId": "c65539f4-bfc6-4922-f587-65053a0feae8"
      },
      "source": [
        "a = 0.3 + 0.6\n",
        "print(a)\n",
        "\n",
        "if a == 0.9:\n",
        "    print('Hello')\n",
        "else:\n",
        "    print('World!')"
      ],
      "execution_count": 8,
      "outputs": [
        {
          "output_type": "stream",
          "text": [
            "0.8999999999999999\n",
            "World!\n"
          ],
          "name": "stdout"
        }
      ]
    },
    {
      "cell_type": "code",
      "metadata": {
        "colab": {
          "base_uri": "https://localhost:8080/"
        },
        "id": "AUMPvb1iqAuv",
        "outputId": "4d90b1f2-30f1-458a-a167-abb35fbfa134"
      },
      "source": [
        "a = 0.3 + 0.6\n",
        "print(round(a, 3))"
      ],
      "execution_count": 12,
      "outputs": [
        {
          "output_type": "stream",
          "text": [
            "0.9\n"
          ],
          "name": "stdout"
        }
      ]
    },
    {
      "cell_type": "markdown",
      "metadata": {
        "id": "A7OQHXWTqpRg"
      },
      "source": [
        "### 수 자료형의 연산\n",
        "\n",
        "* 나누기 연산자(/): 나눠진 결과를 실수형으로 반환하므로 유의.\n",
        "\n",
        "* 나머지 연산자(%)\n",
        "\n",
        "* 몫 연산자(//)\n",
        "\n",
        "* 거듭 제곱 연산자(**)"
      ]
    },
    {
      "cell_type": "code",
      "metadata": {
        "colab": {
          "base_uri": "https://localhost:8080/"
        },
        "id": "1JDY4mRRqg3n",
        "outputId": "9f707dc8-11aa-46f4-d09a-729252fab198"
      },
      "source": [
        "a = 7\n",
        "b = 3\n",
        "\n",
        "print(a/b)\n",
        "print(a%b)\n",
        "print(a//b)"
      ],
      "execution_count": 13,
      "outputs": [
        {
          "output_type": "stream",
          "text": [
            "2.3333333333333335\n",
            "1\n",
            "2\n"
          ],
          "name": "stdout"
        }
      ]
    },
    {
      "cell_type": "code",
      "metadata": {
        "colab": {
          "base_uri": "https://localhost:8080/"
        },
        "id": "lleBGmXXrLco",
        "outputId": "87483c6c-4ff0-4fe6-9eac-41ba648b5942"
      },
      "source": [
        "# 나누기 연산자의 결과가 실수형으로 표현되는 예시\n",
        "print(2/1)"
      ],
      "execution_count": 15,
      "outputs": [
        {
          "output_type": "stream",
          "text": [
            "2.0\n"
          ],
          "name": "stdout"
        }
      ]
    },
    {
      "cell_type": "code",
      "metadata": {
        "colab": {
          "base_uri": "https://localhost:8080/"
        },
        "id": "_1XvU9w7rP3c",
        "outputId": "1383c8b5-0099-4d48-bb9f-73f65aae7932"
      },
      "source": [
        "a = 5\n",
        "b = 3\n",
        "\n",
        "print(a ** b)\n",
        "print(a ** (1/2))\n",
        "print(a ** 0.5)"
      ],
      "execution_count": 16,
      "outputs": [
        {
          "output_type": "stream",
          "text": [
            "125\n",
            "2.23606797749979\n",
            "2.23606797749979\n"
          ],
          "name": "stdout"
        }
      ]
    },
    {
      "cell_type": "markdown",
      "metadata": {
        "id": "wCLTB8Dzrp0e"
      },
      "source": [
        "### 리스트 컴프리헨션\n",
        "\n",
        "특히 NXM 크기의 2차원 리스트를 한 번에 초기화 해야 할 때 유용.\n",
        "\n",
        "* 좋은 예: array = [ [0]\\*m for _ in range(n) ]\n",
        "\n",
        "* 잘못된 예: array = [ [0]\\*m ] * n"
      ]
    },
    {
      "cell_type": "code",
      "metadata": {
        "colab": {
          "base_uri": "https://localhost:8080/"
        },
        "id": "e8edcMCtre93",
        "outputId": "10dda2a3-07a1-45fe-9f6e-15fc31501ab2"
      },
      "source": [
        "a = [ i for i in range(20) if i % 2 ==1 ]\n",
        "\n",
        "print(a)"
      ],
      "execution_count": 17,
      "outputs": [
        {
          "output_type": "stream",
          "text": [
            "[1, 3, 5, 7, 9, 11, 13, 15, 17, 19]\n"
          ],
          "name": "stdout"
        }
      ]
    },
    {
      "cell_type": "code",
      "metadata": {
        "colab": {
          "base_uri": "https://localhost:8080/"
        },
        "id": "5In0YwtusZfe",
        "outputId": "08b160d9-705f-4ad0-ef14-5cb55b7df06b"
      },
      "source": [
        "# 2차원 리스트 좋은 예\n",
        "N = 4\n",
        "M = 3\n",
        "\n",
        "arr = [[0]*M for _ in range(N)]\n",
        "print(arr)"
      ],
      "execution_count": 18,
      "outputs": [
        {
          "output_type": "stream",
          "text": [
            "[[0, 0, 0], [0, 0, 0], [0, 0, 0], [0, 0, 0]]\n"
          ],
          "name": "stdout"
        }
      ]
    },
    {
      "cell_type": "code",
      "metadata": {
        "colab": {
          "base_uri": "https://localhost:8080/"
        },
        "id": "3cb851resjHd",
        "outputId": "af5ff536-776f-4171-aecd-fbb7386fd4cd"
      },
      "source": [
        "# 2차원 리스트 초기화 나쁜 예\n",
        "\n",
        "N = 4\n",
        "M = 3\n",
        "arr = [[0]*M]*N\n",
        "print(arr)\n",
        "\n",
        "arr[1][1] = 5\n",
        "print(arr)"
      ],
      "execution_count": 19,
      "outputs": [
        {
          "output_type": "stream",
          "text": [
            "[[0, 0, 0], [0, 0, 0], [0, 0, 0], [0, 0, 0]]\n",
            "[[0, 5, 0], [0, 5, 0], [0, 5, 0], [0, 5, 0]]\n"
          ],
          "name": "stdout"
        }
      ]
    },
    {
      "cell_type": "markdown",
      "metadata": {
        "id": "nf-HgVAes5JF"
      },
      "source": [
        "2차원 리스트 초기화 시 나쁜 예시로 작성한다면, 주소값이 복사되어 생성되는 것이기 때문에 위 셀과 같이 하나의 값만 바뀌는 것이 아니라 해당하는 모든 값이 바뀐다."
      ]
    },
    {
      "cell_type": "markdown",
      "metadata": {
        "id": "8PyxY22ZtYsS"
      },
      "source": [
        "### 리스트 관련 메서드\n",
        "\n",
        "* append(): 리스트.append(값)\n",
        "* sort(): 리스트.sort(). 원래 리스트가 변경\n",
        "* sorted(): sorted(리스트). 정렬된 리스트의 결과를 반환. 원래 리스트는 변경 없음.\n",
        "* reverse(): 리스트.reversed(). 리스트의 원소의 순서를 모두 뒤집어 놓는다. 정렬이 아님.\n",
        "* insert(): 리스트.insert(인덱스, 값)\n",
        "* count(): 리스트.count(특정 값). 리스트 내의 특정 값의 개수를 반환\n",
        "* remove(): 리스트.remove(특정 값). 특정 값을 제거. 다만 특정 값이 여러 개일때는 하나만 제거."
      ]
    },
    {
      "cell_type": "code",
      "metadata": {
        "colab": {
          "base_uri": "https://localhost:8080/"
        },
        "id": "rigv6Ubrs3K7",
        "outputId": "c4f4aece-adba-4851-cb08-0f1c89213a99"
      },
      "source": [
        "a = [5, 2, 4, 6, 8]\n",
        "a.remove(4)\n",
        "print(a)"
      ],
      "execution_count": 20,
      "outputs": [
        {
          "output_type": "stream",
          "text": [
            "[5, 2, 6, 8]\n"
          ],
          "name": "stdout"
        }
      ]
    },
    {
      "cell_type": "code",
      "metadata": {
        "colab": {
          "base_uri": "https://localhost:8080/"
        },
        "id": "hJeT8qmiuqF5",
        "outputId": "29de9f8c-4fbb-4a77-daab-65b1a3671fd0"
      },
      "source": [
        "# 리스트 내 특정 값 모두 제거\n",
        "a = [1,2,3,4,5,5,5]\n",
        "remove_set = {3,5}\n",
        "\n",
        "result = [i for i in a if i not in remove_set]\n",
        "print(result)"
      ],
      "execution_count": 21,
      "outputs": [
        {
          "output_type": "stream",
          "text": [
            "[1, 2, 4]\n"
          ],
          "name": "stdout"
        }
      ]
    },
    {
      "cell_type": "markdown",
      "metadata": {
        "id": "kxR7P0M6wpnq"
      },
      "source": [
        "### 사전 자료형\n",
        "\n",
        "dict는 해시 테이블을 이용하므로 데이터의 검색 및 수정에 있어서 O(1)의 시간에 처리 할 수 있다."
      ]
    },
    {
      "cell_type": "markdown",
      "metadata": {
        "id": "75ZkFvZNxAVI"
      },
      "source": [
        "### 집합 자료형\n",
        "\n",
        "흔히 어떤 값이 존재하는지 여부를 찾을 때 사용된다.\n",
        "\n",
        "dict와 마찬가지로 O(1)의 시간 복잡도를 가진다.\n",
        "\n",
        "list나 tuple은 데이터의 개수(길이)만큼 시간 복잡도를 가진다.\n",
        "\n",
        "* 새로운 원소 추가: 세트.add(값)\n",
        "\n",
        "* 새로운 원소 여러 개 추가: 세트.update([값1, 값2])"
      ]
    },
    {
      "cell_type": "code",
      "metadata": {
        "colab": {
          "base_uri": "https://localhost:8080/"
        },
        "id": "RcPyVTJRu3C-",
        "outputId": "42e6168d-c69e-4791-f85a-554a40a5afeb"
      },
      "source": [
        "a = {1,2,3}\n",
        "\n",
        "print(2 in a)"
      ],
      "execution_count": 23,
      "outputs": [
        {
          "output_type": "stream",
          "text": [
            "True\n"
          ],
          "name": "stdout"
        }
      ]
    },
    {
      "cell_type": "markdown",
      "metadata": {
        "id": "lSPj3gX02cHh"
      },
      "source": [
        "# 1시간 59분 람다 표현식부터!!!"
      ]
    },
    {
      "cell_type": "code",
      "metadata": {
        "id": "FK1HF4DtyAZX"
      },
      "source": [
        ""
      ],
      "execution_count": null,
      "outputs": []
    },
    {
      "cell_type": "code",
      "metadata": {
        "id": "Og7FVJ0Dxvuo"
      },
      "source": [
        ""
      ],
      "execution_count": null,
      "outputs": []
    }
  ]
}