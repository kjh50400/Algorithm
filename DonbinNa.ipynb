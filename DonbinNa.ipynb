{
  "nbformat": 4,
  "nbformat_minor": 0,
  "metadata": {
    "colab": {
      "name": "DonbinNa.ipynb",
      "provenance": [],
      "collapsed_sections": [],
      "authorship_tag": "ABX9TyMUzlEja6QLAHaUJEpxmzRc"
    },
    "kernelspec": {
      "name": "python3",
      "display_name": "Python 3"
    }
  },
  "cells": [
    {
      "cell_type": "markdown",
      "metadata": {
        "id": "Dm-FWEYvZ8Oj"
      },
      "source": [
        "# 이것이 취업을 위한 코딩 테스트다 with 파이썬"
      ]
    },
    {
      "cell_type": "markdown",
      "metadata": {
        "id": "AYuu-lCLnp3C"
      },
      "source": [
        "## 1. 코딩 테스트 개요 및 파이썬 문법"
      ]
    },
    {
      "cell_type": "markdown",
      "metadata": {
        "id": "-xeyA5m4ntXj"
      },
      "source": [
        "### 실수형\n"
      ]
    },
    {
      "cell_type": "code",
      "metadata": {
        "colab": {
          "base_uri": "https://localhost:8080/"
        },
        "id": "umiepsSNZmEW",
        "outputId": "054fd7a9-8a7e-437d-8154-7ab3d47ec161"
      },
      "source": [
        "a = 5.\n",
        "print(type(a))\n",
        "print(a)"
      ],
      "execution_count": null,
      "outputs": [
        {
          "output_type": "stream",
          "text": [
            "<class 'float'>\n",
            "5.0\n"
          ],
          "name": "stdout"
        }
      ]
    },
    {
      "cell_type": "code",
      "metadata": {
        "colab": {
          "base_uri": "https://localhost:8080/"
        },
        "id": "yxUx8F2Jn6Gf",
        "outputId": "b9296de7-c649-4a4b-d3eb-61b98afb0fcb"
      },
      "source": [
        "a = -.7\n",
        "print(a)"
      ],
      "execution_count": null,
      "outputs": [
        {
          "output_type": "stream",
          "text": [
            "-0.7\n"
          ],
          "name": "stdout"
        }
      ]
    },
    {
      "cell_type": "markdown",
      "metadata": {
        "id": "pCtw9lW_oDnI"
      },
      "source": [
        "### 지수 표현 방식\n",
        "\n",
        "e나 E를 이용하여 지수 표현 방식 이용.\n",
        "* e, E 다음에 오는 수는 10의 지수부\n",
        "\n",
        "기본적으로 지수 표현은 실수형. 따라서 필요에 따라 정수형으로 바꿔야 한다.\n",
        "\n",
        "보통 최단 경로 알고리즘에서는 도달할 수 없는 노드에 대하여 최단 거리를 무한(INF)로 설정하곤 한다. (아래 셀 참조)"
      ]
    },
    {
      "cell_type": "code",
      "metadata": {
        "colab": {
          "base_uri": "https://localhost:8080/"
        },
        "id": "bhpASGFhoCMt",
        "outputId": "589674fa-d721-41cf-f2bd-b588484d3a3b"
      },
      "source": [
        "INF = 1e9\n",
        "print(INF)"
      ],
      "execution_count": null,
      "outputs": [
        {
          "output_type": "stream",
          "text": [
            "1000000000.0\n"
          ],
          "name": "stdout"
        }
      ]
    },
    {
      "cell_type": "code",
      "metadata": {
        "colab": {
          "base_uri": "https://localhost:8080/"
        },
        "id": "ME2idawppKh7",
        "outputId": "b3b4a315-e3d2-4cd9-c890-24ea03135b62"
      },
      "source": [
        "INF = int(1e9)\n",
        "print(INF)"
      ],
      "execution_count": null,
      "outputs": [
        {
          "output_type": "stream",
          "text": [
            "1000000000\n"
          ],
          "name": "stdout"
        }
      ]
    },
    {
      "cell_type": "markdown",
      "metadata": {
        "id": "SuOGg5ldpSfb"
      },
      "source": [
        "### 실수형 더 알아보기\n",
        "\n",
        "오늘날 가장 널리 쓰이는 IEEE754 표준에서는 실수형을 저장하기 위해 4바이트 혹은 8바이트의 고정된 크기의 메모리에 할당.\n",
        "\n",
        "따라서 실수 정보를 표현하는 정확도에 한계 존재.\n",
        "\n",
        "예)   \n",
        "10진수 체계에서는 0.3과 0.6을 더한 값이 0.9로 정확하게 나타남.  \n",
        "하지만 2진수에서는 0.9를 정확히 표현할 수 있는 방법이 없음.\n",
        "\n",
        "`round()`를 사용"
      ]
    },
    {
      "cell_type": "code",
      "metadata": {
        "colab": {
          "base_uri": "https://localhost:8080/"
        },
        "id": "m0a5Fwe4pNyG",
        "outputId": "c65539f4-bfc6-4922-f587-65053a0feae8"
      },
      "source": [
        "a = 0.3 + 0.6\n",
        "print(a)\n",
        "\n",
        "if a == 0.9:\n",
        "    print('Hello')\n",
        "else:\n",
        "    print('World!')"
      ],
      "execution_count": null,
      "outputs": [
        {
          "output_type": "stream",
          "text": [
            "0.8999999999999999\n",
            "World!\n"
          ],
          "name": "stdout"
        }
      ]
    },
    {
      "cell_type": "code",
      "metadata": {
        "colab": {
          "base_uri": "https://localhost:8080/"
        },
        "id": "AUMPvb1iqAuv",
        "outputId": "4d90b1f2-30f1-458a-a167-abb35fbfa134"
      },
      "source": [
        "a = 0.3 + 0.6\n",
        "print(round(a, 3))"
      ],
      "execution_count": null,
      "outputs": [
        {
          "output_type": "stream",
          "text": [
            "0.9\n"
          ],
          "name": "stdout"
        }
      ]
    },
    {
      "cell_type": "markdown",
      "metadata": {
        "id": "A7OQHXWTqpRg"
      },
      "source": [
        "### 수 자료형의 연산\n",
        "\n",
        "* 나누기 연산자(/): 나눠진 결과를 실수형으로 반환하므로 유의.\n",
        "\n",
        "* 나머지 연산자(%)\n",
        "\n",
        "* 몫 연산자(//)\n",
        "\n",
        "* 거듭 제곱 연산자(**)"
      ]
    },
    {
      "cell_type": "code",
      "metadata": {
        "colab": {
          "base_uri": "https://localhost:8080/"
        },
        "id": "1JDY4mRRqg3n",
        "outputId": "9f707dc8-11aa-46f4-d09a-729252fab198"
      },
      "source": [
        "a = 7\n",
        "b = 3\n",
        "\n",
        "print(a/b)\n",
        "print(a%b)\n",
        "print(a//b)"
      ],
      "execution_count": null,
      "outputs": [
        {
          "output_type": "stream",
          "text": [
            "2.3333333333333335\n",
            "1\n",
            "2\n"
          ],
          "name": "stdout"
        }
      ]
    },
    {
      "cell_type": "code",
      "metadata": {
        "colab": {
          "base_uri": "https://localhost:8080/"
        },
        "id": "lleBGmXXrLco",
        "outputId": "87483c6c-4ff0-4fe6-9eac-41ba648b5942"
      },
      "source": [
        "# 나누기 연산자의 결과가 실수형으로 표현되는 예시\n",
        "print(2/1)"
      ],
      "execution_count": null,
      "outputs": [
        {
          "output_type": "stream",
          "text": [
            "2.0\n"
          ],
          "name": "stdout"
        }
      ]
    },
    {
      "cell_type": "code",
      "metadata": {
        "colab": {
          "base_uri": "https://localhost:8080/"
        },
        "id": "_1XvU9w7rP3c",
        "outputId": "1383c8b5-0099-4d48-bb9f-73f65aae7932"
      },
      "source": [
        "a = 5\n",
        "b = 3\n",
        "\n",
        "print(a ** b)\n",
        "print(a ** (1/2))\n",
        "print(a ** 0.5)"
      ],
      "execution_count": null,
      "outputs": [
        {
          "output_type": "stream",
          "text": [
            "125\n",
            "2.23606797749979\n",
            "2.23606797749979\n"
          ],
          "name": "stdout"
        }
      ]
    },
    {
      "cell_type": "markdown",
      "metadata": {
        "id": "wCLTB8Dzrp0e"
      },
      "source": [
        "### 리스트 컴프리헨션\n",
        "\n",
        "특히 NXM 크기의 2차원 리스트를 한 번에 초기화 해야 할 때 유용.\n",
        "\n",
        "* 좋은 예: array = [ [0]\\*m for _ in range(n) ]\n",
        "\n",
        "* 잘못된 예: array = [ [0]\\*m ] * n"
      ]
    },
    {
      "cell_type": "code",
      "metadata": {
        "colab": {
          "base_uri": "https://localhost:8080/"
        },
        "id": "e8edcMCtre93",
        "outputId": "10dda2a3-07a1-45fe-9f6e-15fc31501ab2"
      },
      "source": [
        "a = [ i for i in range(20) if i % 2 ==1 ]\n",
        "\n",
        "print(a)"
      ],
      "execution_count": null,
      "outputs": [
        {
          "output_type": "stream",
          "text": [
            "[1, 3, 5, 7, 9, 11, 13, 15, 17, 19]\n"
          ],
          "name": "stdout"
        }
      ]
    },
    {
      "cell_type": "code",
      "metadata": {
        "colab": {
          "base_uri": "https://localhost:8080/"
        },
        "id": "5In0YwtusZfe",
        "outputId": "08b160d9-705f-4ad0-ef14-5cb55b7df06b"
      },
      "source": [
        "# 2차원 리스트 좋은 예\n",
        "N = 4\n",
        "M = 3\n",
        "\n",
        "arr = [[0]*M for _ in range(N)]\n",
        "print(arr)"
      ],
      "execution_count": null,
      "outputs": [
        {
          "output_type": "stream",
          "text": [
            "[[0, 0, 0], [0, 0, 0], [0, 0, 0], [0, 0, 0]]\n"
          ],
          "name": "stdout"
        }
      ]
    },
    {
      "cell_type": "code",
      "metadata": {
        "colab": {
          "base_uri": "https://localhost:8080/"
        },
        "id": "3cb851resjHd",
        "outputId": "af5ff536-776f-4171-aecd-fbb7386fd4cd"
      },
      "source": [
        "# 2차원 리스트 초기화 나쁜 예\n",
        "\n",
        "N = 4\n",
        "M = 3\n",
        "arr = [[0]*M]*N\n",
        "print(arr)\n",
        "\n",
        "arr[1][1] = 5\n",
        "print(arr)"
      ],
      "execution_count": null,
      "outputs": [
        {
          "output_type": "stream",
          "text": [
            "[[0, 0, 0], [0, 0, 0], [0, 0, 0], [0, 0, 0]]\n",
            "[[0, 5, 0], [0, 5, 0], [0, 5, 0], [0, 5, 0]]\n"
          ],
          "name": "stdout"
        }
      ]
    },
    {
      "cell_type": "markdown",
      "metadata": {
        "id": "nf-HgVAes5JF"
      },
      "source": [
        "2차원 리스트 초기화 시 나쁜 예시로 작성한다면, 주소값이 복사되어 생성되는 것이기 때문에 위 셀과 같이 하나의 값만 바뀌는 것이 아니라 해당하는 모든 값이 바뀐다."
      ]
    },
    {
      "cell_type": "markdown",
      "metadata": {
        "id": "8PyxY22ZtYsS"
      },
      "source": [
        "### 리스트 관련 메서드\n",
        "\n",
        "* append(): 리스트.append(값)\n",
        "* sort(): 리스트.sort(). 원래 리스트가 변경\n",
        "* sorted(): sorted(리스트). 정렬된 리스트의 결과를 반환. 원래 리스트는 변경 없음.\n",
        "* reverse(): 리스트.reversed(). 리스트의 원소의 순서를 모두 뒤집어 놓는다. 정렬이 아님.\n",
        "* insert(): 리스트.insert(인덱스, 값)\n",
        "* count(): 리스트.count(특정 값). 리스트 내의 특정 값의 개수를 반환\n",
        "* remove(): 리스트.remove(특정 값). 특정 값을 제거. 다만 특정 값이 여러 개일때는 하나만 제거."
      ]
    },
    {
      "cell_type": "code",
      "metadata": {
        "colab": {
          "base_uri": "https://localhost:8080/"
        },
        "id": "rigv6Ubrs3K7",
        "outputId": "c4f4aece-adba-4851-cb08-0f1c89213a99"
      },
      "source": [
        "a = [5, 2, 4, 6, 8]\n",
        "a.remove(4)\n",
        "print(a)"
      ],
      "execution_count": null,
      "outputs": [
        {
          "output_type": "stream",
          "text": [
            "[5, 2, 6, 8]\n"
          ],
          "name": "stdout"
        }
      ]
    },
    {
      "cell_type": "code",
      "metadata": {
        "colab": {
          "base_uri": "https://localhost:8080/"
        },
        "id": "hJeT8qmiuqF5",
        "outputId": "29de9f8c-4fbb-4a77-daab-65b1a3671fd0"
      },
      "source": [
        "# 리스트 내 특정 값 모두 제거\n",
        "a = [1,2,3,4,5,5,5]\n",
        "remove_set = {3,5}\n",
        "\n",
        "result = [i for i in a if i not in remove_set]\n",
        "print(result)"
      ],
      "execution_count": null,
      "outputs": [
        {
          "output_type": "stream",
          "text": [
            "[1, 2, 4]\n"
          ],
          "name": "stdout"
        }
      ]
    },
    {
      "cell_type": "markdown",
      "metadata": {
        "id": "kxR7P0M6wpnq"
      },
      "source": [
        "### 사전 자료형\n",
        "\n",
        "dict는 해시 테이블을 이용하므로 데이터의 검색 및 수정에 있어서 O(1)의 시간에 처리 할 수 있다."
      ]
    },
    {
      "cell_type": "markdown",
      "metadata": {
        "id": "75ZkFvZNxAVI"
      },
      "source": [
        "### 집합 자료형\n",
        "\n",
        "흔히 어떤 값이 존재하는지 여부를 찾을 때 사용된다.\n",
        "\n",
        "dict와 마찬가지로 O(1)의 시간 복잡도를 가진다.\n",
        "\n",
        "list나 tuple은 데이터의 개수(길이)만큼 시간 복잡도를 가진다.\n",
        "\n",
        "* 새로운 원소 추가: 세트.add(값)\n",
        "\n",
        "* 새로운 원소 여러 개 추가: 세트.update([값1, 값2])"
      ]
    },
    {
      "cell_type": "code",
      "metadata": {
        "colab": {
          "base_uri": "https://localhost:8080/"
        },
        "id": "RcPyVTJRu3C-",
        "outputId": "42e6168d-c69e-4791-f85a-554a40a5afeb"
      },
      "source": [
        "a = {1,2,3}\n",
        "\n",
        "print(2 in a)"
      ],
      "execution_count": null,
      "outputs": [
        {
          "output_type": "stream",
          "text": [
            "True\n"
          ],
          "name": "stdout"
        }
      ]
    },
    {
      "cell_type": "markdown",
      "metadata": {
        "id": "lSPj3gX02cHh"
      },
      "source": [
        "### 람다 표현식\n",
        "\n",
        "특정한 기능을 수행하는 함수를 한 줄에 작성 가능.\n",
        "\n",
        "ex) `(lambda a, b: a+b)(3, 5)`\n",
        "\n",
        "정렬 기준을 명시할 때 많이 사용 된다."
      ]
    },
    {
      "cell_type": "code",
      "metadata": {
        "id": "FK1HF4DtyAZX",
        "colab": {
          "base_uri": "https://localhost:8080/"
        },
        "outputId": "7559b70f-59f5-47b0-8e5a-1c3d9ab30b1a"
      },
      "source": [
        "arr = [('홍길동', 50), ('이순신', 32), ('아무개', 74)]\n",
        "\n",
        "result = sorted(arr, key=lambda x: x[1])\n",
        "\n",
        "print(result)"
      ],
      "execution_count": null,
      "outputs": [
        {
          "output_type": "stream",
          "text": [
            "[('이순신', 32), ('홍길동', 50), ('아무개', 74)]\n"
          ],
          "name": "stdout"
        }
      ]
    },
    {
      "cell_type": "code",
      "metadata": {
        "id": "Og7FVJ0Dxvuo",
        "colab": {
          "base_uri": "https://localhost:8080/"
        },
        "outputId": "c06bfd7e-5145-4d9b-e785-420cee3f823a"
      },
      "source": [
        "list1 = [1,2,3,4,5]\n",
        "list2 = [6,7,8,9,10]\n",
        "\n",
        "result = map(lambda a,b: a+b, list1, list2)\n",
        "\n",
        "print(result)\n",
        "print(list(result))"
      ],
      "execution_count": null,
      "outputs": [
        {
          "output_type": "stream",
          "text": [
            "<map object at 0x7f03ac327160>\n",
            "[7, 9, 11, 13, 15]\n"
          ],
          "name": "stdout"
        }
      ]
    },
    {
      "cell_type": "markdown",
      "metadata": {
        "id": "tUA-L7b9jFRL"
      },
      "source": [
        "### 유용한 표준 라이브러리\n",
        "\n",
        "* itertools: 파이썬에서 반복되는 형태의 데이터를 처리하는 기능을 제공하는 라이브러리. 순열과 조합 라이브러리를 제공.\n",
        "\n",
        "* heapq: heap (힙) 기능을 제공하는 라이브러리. 우선순위 큐 기능을 구현하기 위해 사용.\n",
        "\n",
        "* bisect: 이진 탐색 기능을 제공하는 라이브러리.\n",
        "\n",
        "* collections: 덱(deque), 카운터(counter) 등의 유용한 자료구조를 포함하고 있는 라이브러리"
      ]
    },
    {
      "cell_type": "code",
      "metadata": {
        "colab": {
          "base_uri": "https://localhost:8080/"
        },
        "id": "EOEtRzzaiz2f",
        "outputId": "347aa6bf-889d-4c94-8309-c657e00e0bb2"
      },
      "source": [
        "result = sum([1,2,3,4,5])\n",
        "print(result)\n",
        "\n",
        "min_result = min(7,3,5,2)\n",
        "max_result = max(7,3,5,2)\n",
        "print(min_result, max_result)\n",
        "\n",
        "# eval() 함수는 유용. 입력에 대한 연산 결과를 바로 보여줌?\n",
        "result = eval(\"(3+5)*7\")\n",
        "print(result)"
      ],
      "execution_count": null,
      "outputs": [
        {
          "output_type": "stream",
          "text": [
            "15\n",
            "2 7\n",
            "56\n"
          ],
          "name": "stdout"
        }
      ]
    },
    {
      "cell_type": "markdown",
      "metadata": {
        "id": "riOWUNItkNNE"
      },
      "source": [
        "### 순열과 조합\n",
        "\n",
        "순열: <sub>n</sub> P <sub>r</sub>\n",
        "\n",
        "조합: <sub>n</sub> C <sub>r</sub>"
      ]
    },
    {
      "cell_type": "code",
      "metadata": {
        "colab": {
          "base_uri": "https://localhost:8080/"
        },
        "id": "RFfYlvdgj0Oz",
        "outputId": "8b393db1-7ef9-4ee5-80a6-f854d6390583"
      },
      "source": [
        "from itertools import permutations\n",
        "\n",
        "data = ['A', 'B', 'C']\n",
        "\n",
        "result = list(permutations(data, 2))\n",
        "print(result)"
      ],
      "execution_count": null,
      "outputs": [
        {
          "output_type": "stream",
          "text": [
            "[('A', 'B'), ('A', 'C'), ('B', 'A'), ('B', 'C'), ('C', 'A'), ('C', 'B')]\n"
          ],
          "name": "stdout"
        }
      ]
    },
    {
      "cell_type": "code",
      "metadata": {
        "colab": {
          "base_uri": "https://localhost:8080/"
        },
        "id": "TnpJCgO2k6kZ",
        "outputId": "0dc1014c-f7ed-4847-cd7b-1db5036a7342"
      },
      "source": [
        "from itertools import combinations\n",
        "\n",
        "data = ['A', 'B', 'C']\n",
        "\n",
        "result = list(combinations(data, 2))\n",
        "print(result)"
      ],
      "execution_count": null,
      "outputs": [
        {
          "output_type": "stream",
          "text": [
            "[('A', 'B'), ('A', 'C'), ('B', 'C')]\n"
          ],
          "name": "stdout"
        }
      ]
    },
    {
      "cell_type": "code",
      "metadata": {
        "colab": {
          "base_uri": "https://localhost:8080/"
        },
        "id": "aeC0gn2hlGu1",
        "outputId": "2295ee7b-ebd4-4de0-8e0b-f9d27348b6af"
      },
      "source": [
        "# 중복 순열\n",
        "from itertools import product\n",
        "\n",
        "data = ['A', 'B', 'C']\n",
        "\n",
        "result = list(product(data, repeat=2))\n",
        "print(result)\n",
        "\n",
        "# 중복 순열\n",
        "from itertools import combinations_with_replacement\n",
        "\n",
        "data = ['A', 'B', 'C']\n",
        "\n",
        "result = list(combinations_with_replacement(data, 2))\n",
        "print(result)"
      ],
      "execution_count": null,
      "outputs": [
        {
          "output_type": "stream",
          "text": [
            "[('A', 'A'), ('A', 'B'), ('A', 'C'), ('B', 'A'), ('B', 'B'), ('B', 'C'), ('C', 'A'), ('C', 'B'), ('C', 'C')]\n",
            "[('A', 'A'), ('A', 'B'), ('A', 'C'), ('B', 'B'), ('B', 'C'), ('C', 'C')]\n"
          ],
          "name": "stdout"
        }
      ]
    },
    {
      "cell_type": "markdown",
      "metadata": {
        "id": "uLArm4kAlf5j"
      },
      "source": [
        "### QnA\n",
        "\n",
        "표준 라이브러리는 대부분 사용 가능.\n",
        "\n",
        "그래도 순열, 조합은 시간 되면 직접 한 번 구현 해보자.\n",
        "\n",
        "DFS, BFS 정도는 암기 정도가 되어야 한다."
      ]
    },
    {
      "cell_type": "markdown",
      "metadata": {
        "id": "tvF5TsrMleWG"
      },
      "source": [
        "---"
      ]
    },
    {
      "cell_type": "markdown",
      "metadata": {
        "id": "itOeEUZ1mjpt"
      },
      "source": [
        "## 그리디 N 구현"
      ]
    },
    {
      "cell_type": "markdown",
      "metadata": {
        "id": "9ntDMjLjCBQq"
      },
      "source": [
        "### 그리디 알고리즘\n",
        "\n",
        "현재 상황에서 지금 당장 좋은 것만 고르는 방법.\n",
        "\n",
        "그리디 해법은 정당성 분석이 중요. 즉, 단순히 가장 좋아 보이는 것을 반복적으로 선택해도 최적의 해를 구할 수 있는지 여부를 검토해야함."
      ]
    },
    {
      "cell_type": "markdown",
      "metadata": {
        "id": "CXXq8_j_Eqd5"
      },
      "source": [
        "__문제) 거스름 돈__\n",
        "\n",
        "당신은 음식점의 계산을 도와주는 점원입니다. 카운터에는 거스름돈으로 사용할 500원, 100원, 50원, 10원짜리 동전이 무한히 존재한다고 가정합니다. 손님에게 거슬러 주어야 할 돈이 N원일 떄 거슬러 주어야 할 동전의 최소 개수를 구하세요. 단, 거슬로 줘야 할 돈 N은 항상 10의 배수입니다.\n",
        "\n",
        "정당성 분석:  \n",
        "가지고 있는 동전 중에서 큰 단위가 항상 작은 단위의 배수이기 때문에 가장 큰 화폐 단위부터 돈을 거슬러 주는 것이 최적의 해가 될 수 있다.\n",
        "\n",
        "만약 800원을 거슬러 주어야 하는데 화폐 단위가 500원, 400원, 100원이라면?"
      ]
    },
    {
      "cell_type": "code",
      "metadata": {
        "colab": {
          "base_uri": "https://localhost:8080/"
        },
        "id": "BRM82ah-CAI7",
        "outputId": "5ada42e0-78db-4a67-b5db-22cbea3e6f31"
      },
      "source": [
        "n = 1260\n",
        "count = 0\n",
        "\n",
        "arr = [500, 100, 50, 10]\n",
        "\n",
        "for coin in arr:\n",
        "    count += n //coin\n",
        "    n %= coin\n",
        "\n",
        "print(count)"
      ],
      "execution_count": 1,
      "outputs": [
        {
          "output_type": "stream",
          "text": [
            "6\n"
          ],
          "name": "stdout"
        }
      ]
    },
    {
      "cell_type": "markdown",
      "metadata": {
        "id": "SPAnCwCmGQ4l"
      },
      "source": [
        "시간복잡도 분석:  \n",
        "화폐의 종류가 K라고 할 때, 시간 복잡도는 O(K).  \n",
        "이 알고리즘의 시간 복잡도는 거슬러줘야 하는 금액과는 무관하며, 동전의 총 종류에만 영향을 받음."
      ]
    },
    {
      "cell_type": "markdown",
      "metadata": {
        "id": "tHRJ8FPmGzJ5"
      },
      "source": [
        "__문제) 1이 될 때까지__\n",
        "\n",
        "어떤 수 N이 1이 될 때까지 다음의 두 과정 중 하나를 반복적으로 선택하여 수행하려고 합니다. 단, 두번째 연산은 N이 K로 나누어 떨어질 때만 선택할 수 있습니다.\n",
        "\n",
        "1. N에서 1을 뺍니다.\n",
        "2. N을 K로 나눕니다.\n",
        "\n",
        "예를 들어 N이 17, K가 4라고 가정합시다. 이때 1번의 과정을 한 번 수행하면 N은 16이 됩니다. 이후에 2번의 과정을 두 번 수행하면 N은 1이 됩니다. 결과적으로 이 경우 전체 과정을 실행한 횟수는 3이 됩니다. 이는 N을 1로 만드는 최소 횟수입니다.\n",
        "\n",
        "N과 K가 주어질 때 N이 1이 될 때까지 1번 혹은 2번 과정을 수행해야하는 최소 횟수를 구하는 프로그램을 작성하세요."
      ]
    },
    {
      "cell_type": "markdown",
      "metadata": {
        "id": "EJ1tTYiFJh01"
      },
      "source": [
        "정당성 분석:  \n",
        "N이 아무리 큰 수여도, K로 계속 나눈다면 기하급수적으로 빠르게 줄일 수 있음.  \n",
        "다시 말해 K가 2 이상이기만 하면, K로 나누는 것이 1을 빼는 것보다 항상 빠르게 N을 줄일 수 있음."
      ]
    },
    {
      "cell_type": "code",
      "metadata": {
        "colab": {
          "base_uri": "https://localhost:8080/"
        },
        "id": "jNYurP3xF8kj",
        "outputId": "1f972fa6-dd15-4ccf-be73-fea69b153bc0"
      },
      "source": [
        "# J's code\n",
        "n = 25\n",
        "k = 3\n",
        "cnt = 0\n",
        "\n",
        "for _ in range(n-1):\n",
        "    if n == 1:\n",
        "        break\n",
        "    elif n % k == 0:\n",
        "        n /= k\n",
        "        cnt += 1\n",
        "    else:\n",
        "        n -= 1\n",
        "        cnt += 1\n",
        "\n",
        "print(cnt)"
      ],
      "execution_count": 6,
      "outputs": [
        {
          "output_type": "stream",
          "text": [
            "6\n"
          ],
          "name": "stdout"
        }
      ]
    },
    {
      "cell_type": "code",
      "metadata": {
        "colab": {
          "base_uri": "https://localhost:8080/"
        },
        "id": "R7ElClatH31i",
        "outputId": "e8f4f32c-bc39-4ecd-88e4-3764f43f214b"
      },
      "source": [
        "# Dongbin's Code\n",
        "# 빠르게 동작할 수 있도록 최적화가 되어 있는 코드\n",
        "n, k = map(int, input().split())\n",
        "\n",
        "result = 0\n",
        "\n",
        "while True:\n",
        "    # N이 K로 나누어 떨어지는 수가 될 때까지만 1씩 뺴기\n",
        "    # 한번에 K로 나눠지는 값까지 빼는 것\n",
        "    # 시간 복잡도를 위해 자주 사용되는 테크닉\n",
        "    target = (n // k) * k\n",
        "    result += (n - target)\n",
        "    n = target\n",
        "    # N이 K보다 작을 때 (더 이상 나눌 수 없을 때) 반복문 탈출\n",
        "    if n < k:\n",
        "        break\n",
        "    # K로 나누기\n",
        "    result += 1\n",
        "    n //= k\n",
        "\n",
        "# 마지막으로 남은 수에 대하여 1씩 빼기\n",
        "result += (n - 1)\n",
        "print(result)"
      ],
      "execution_count": 8,
      "outputs": [
        {
          "output_type": "stream",
          "text": [
            "25 3\n",
            "6\n"
          ],
          "name": "stdout"
        }
      ]
    },
    {
      "cell_type": "markdown",
      "metadata": {
        "id": "e88Y5PPQK7Lq"
      },
      "source": [
        "__문제) 곱하기 혹은 더하기__\n",
        "\n",
        "각자리가 숫자 (0부터 9)로만 이루어진 문자열 S가 주어졌을 때, 왼쪽부터 오른쪽으로 하나씩 모든 숫자를 확인하며 숫자 사이에 'x' 혹은 '+' 연산자를 넣어 결과적으로 만들어질 수 있는 가장 큰 수를 구하는 프로그램을 작성하세요. 단, +보다 x를 먼저 계산하는 일반적인 방식과 달리, 모든 연산은 왼쪽에서부터 순서대로 이루어진다고 가정합니다.\n",
        "\n",
        "예를 들어 02984라는 문자열로 만들 수 있는 가장 큰 수는 ((((0+2)X9)X8)X4)=576"
      ]
    },
    {
      "cell_type": "code",
      "metadata": {
        "colab": {
          "base_uri": "https://localhost:8080/"
        },
        "id": "YKQ6BP2qKbGW",
        "outputId": "9ff88912-d8e2-42da-fb04-ec2c957a48aa"
      },
      "source": [
        "# J's Code\n",
        "S = '567'\n",
        "S = list(map(int, S))\n",
        "result = 0\n",
        "\n",
        "for s in S:\n",
        "    if s*result > s+result:\n",
        "        result *= s\n",
        "    else:\n",
        "        result += s\n",
        "\n",
        "print(result)"
      ],
      "execution_count": 15,
      "outputs": [
        {
          "output_type": "stream",
          "text": [
            "210\n"
          ],
          "name": "stdout"
        }
      ]
    },
    {
      "cell_type": "markdown",
      "metadata": {
        "id": "weMxiiYrOuEU"
      },
      "source": [
        "해결 아이디어:  \n",
        "대부분 '+'보다 'x'가 값을 더 크게 만듬.  \n",
        "다만 두 수 중에서 하나라도 0 혹은 1인 경우, 곱하기 보다는 더하기를 수행하는 것이 좋음.  \n",
        "따라서 두 수에 대하여 연산을 수행할 때, 두 수중에서 하나라도 1 이하인 경우에는 더하며, 두 수가 모두 2 이상인 경우에는 곱셈 수행."
      ]
    },
    {
      "cell_type": "code",
      "metadata": {
        "colab": {
          "base_uri": "https://localhost:8080/"
        },
        "id": "XLiSeM9sL9nX",
        "outputId": "ed7db28c-507d-4133-f5f8-41506ae5d562"
      },
      "source": [
        "# Dongbin's Code\n",
        "data = input()\n",
        "\n",
        "# 첫 번째 문자를 숫자로 변경하여 대입\n",
        "result = int(data[0])\n",
        "\n",
        "for i in range(1, len(data)):\n",
        "    # 두 수 중에서 하나라도 0 혹은 1인 경우, 곱하기보다는 더하기 수행\n",
        "    num = int(data[i])\n",
        "    if num <= 1 or result <= 1:\n",
        "        result += num\n",
        "    else:\n",
        "        result *= num\n",
        "\n",
        "print(result)"
      ],
      "execution_count": 19,
      "outputs": [
        {
          "output_type": "stream",
          "text": [
            "567\n",
            "210\n"
          ],
          "name": "stdout"
        }
      ]
    },
    {
      "cell_type": "markdown",
      "metadata": {
        "id": "-yhJobNAQvIk"
      },
      "source": [
        "### 구현(Implementation)\n",
        "\n",
        "알고리즘 대회에서 구현 유형의 문제란?  \n",
        "풀이를 떠올리는 것은 쉽지만 소스코드로 옮기기 어려운 문제를 지칭.\n",
        "\n",
        "구현 유형의 예시\n",
        "* 알고리즘은 간단한데 코드가 지나칠 만큼 길어지는 문제\n",
        "* 실수 연산을 다루고, 특정 소수점 자리까지 출력해야 하는 문제\n",
        "* 문자열을 특정한 기준에 따라서 끊어 처리해야 하는 문제\n",
        "* 적절한 라이브러리를 찾아서 사용해야 하는 문제"
      ]
    },
    {
      "cell_type": "markdown",
      "metadata": {
        "id": "o1CV-HMyRoEP"
      },
      "source": [
        "# 그리디& 구현 41분 25초!!!"
      ]
    },
    {
      "cell_type": "code",
      "metadata": {
        "id": "5sM-GN3WPFVf"
      },
      "source": [
        ""
      ],
      "execution_count": null,
      "outputs": []
    }
  ]
}