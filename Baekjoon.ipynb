{
  "nbformat": 4,
  "nbformat_minor": 0,
  "metadata": {
    "colab": {
      "name": "Baekjoon.ipynb",
      "provenance": [],
      "collapsed_sections": [],
      "authorship_tag": "ABX9TyM0HqJzvVd9+NDjbLYtBrjx"
    },
    "kernelspec": {
      "name": "python3",
      "display_name": "Python 3"
    }
  },
  "cells": [
    {
      "cell_type": "markdown",
      "metadata": {
        "id": "8t1MXb0bphkz",
        "colab_type": "text"
      },
      "source": [
        "---\n",
        "\n",
        "Date: 2020-07-27\n",
        "\n",
        "Progress: 1/3"
      ]
    },
    {
      "cell_type": "markdown",
      "metadata": {
        "id": "AJoGLhn1ftr1",
        "colab_type": "text"
      },
      "source": [
        "# 2872번. 우리집엔 도서관이 있어\n",
        "\n",
        "## 문제\n",
        "\n",
        "상근이는 컴퓨터 공학의 일인자가 되기 위해 책을 매우 많이 구매했다. 하지만, 집에 책장이 없어서 책을 탑처럼 쌓아놓고 있다.\n",
        "\n",
        "오늘은 오랜만에 상근이가 집에서 휴식을 취하는 날이다. 상근이는 책을 알파벳 순서대로 정렬하려고 한다. 사전 순으로 가장 앞서는 책은 가장 위에 놓고, 가장 뒤에 있는 책은 가장 밑에 놓아야 한다. 책을 정렬할 때 사용할 수 있는 방법은 책 하나를 뺀 다음, 가장 위에 놓는 것이다.\n",
        "\n",
        "책은 1부터 N까지 번호가 책 이름의 사전 순으로 매겨져 있다. 1은 사전 순으로 가장 앞서는 책이다. 따라서, 위에서부터 책의 번호를 읽으면 (1, 2, ..., N)이 되어야 한다. 예를 들어, 책이 3권있고 처음에 (3, 2, 1)로 쌓여있을 때, 2번 만에 사전순으로 책을 쌓을 수 있다. 가장 먼저, 2번 책을 뺀 다음에 가장 위에 놓는다. 그렇게 되면 (2, 3, 1)이 된다. 마지막으로, 1을 뺀 다음 가장 위에 놓으면 (1, 2, 3)이 된다.\n",
        "\n",
        "현재 책이 어떻게 쌓여있는지가 주어졌을 때, 몇 번만에 사전 순으로 쌓을 수 있는지 구하는 프로그램을 작성하시오.\n",
        "\n",
        "## 입력\n",
        "\n",
        "첫째 줄에 책의 개수 N이 주어진다. (N ≤ 300,000)\n",
        "\n",
        "다음 N개 줄에는 가장 위에 있는 책부터 아래에 있는 책까지 순서대로 주어진다.\n",
        "\n",
        "## 출력\n",
        "\n",
        "첫째 줄에 몇 번만에 책을 정렬할 수 있는지 출력한다."
      ]
    },
    {
      "cell_type": "code",
      "metadata": {
        "id": "ZwLt4mVYfqT0",
        "colab_type": "code",
        "colab": {
          "base_uri": "https://localhost:8080/",
          "height": 35
        },
        "outputId": "91596ddf-9782-48e6-8a94-0d6266378447"
      },
      "source": [
        "N = int(input())\n",
        "books = []\n",
        "\n",
        "for i in range(N):\n",
        "    books.append(int(input))\n",
        "\n",
        "lowest_idx = books.index(N)"
      ],
      "execution_count": null,
      "outputs": [
        {
          "output_type": "stream",
          "text": [
            "hello world!\n"
          ],
          "name": "stdout"
        }
      ]
    },
    {
      "cell_type": "code",
      "metadata": {
        "id": "iGA_xxhVfzYL",
        "colab_type": "code",
        "colab": {}
      },
      "source": [
        "(1 2 3)\n",
        "1 3 2 / 3 2 1\n",
        "\n",
        "(2 1 3)\n",
        "1 3 2 / 1 2 3\n",
        "\n",
        "(1 2 3 4)\n",
        "1 2 4 3 / 1 4 3 2 / 4 3 2 1\n",
        "\n",
        "(1 3 2 4)\n",
        "1 2 4 3 / 1 4 3 2 / 4321\n",
        "\n",
        "(2 1 4 3)\n",
        "1432 / 4321\n",
        "(3 4 1 2)\n",
        "4123 / 4132 / 4321\n",
        "\n",
        "(3 1 4 2)\n",
        "1423 / 1432 / 4321"
      ],
      "execution_count": null,
      "outputs": []
    },
    {
      "cell_type": "code",
      "metadata": {
        "id": "AIL-bMHpT7j7",
        "colab_type": "code",
        "colab": {}
      },
      "source": [
        ""
      ],
      "execution_count": null,
      "outputs": []
    },
    {
      "cell_type": "markdown",
      "metadata": {
        "id": "J9hkTlxrVJ71",
        "colab_type": "text"
      },
      "source": [
        "# 1620번 나는야 포켓몬 마스터 이다솜\n",
        "\n",
        "## 문제\n",
        "\n",
        "생략\n",
        "\n",
        "## 입력\n",
        "\n",
        "첫째 줄에는 도감에 수록되어 있는 포켓몬의 개수 N이랑 내가 맞춰야 하는 문제의 개수 M이 주어져. N과 M은 1보다 크거나 같고, 100,000보다 작거나 같은 자연수인데, 자연수가 뭔지는 알지? 모르면 물어봐도 괜찮아. 나는 언제든지 질문에 답해줄 준비가 되어있어.\n",
        "\n",
        "둘째 줄부터 N개의 줄에 포켓몬의 번호가 1번인 포켓몬부터 N번에 해당하는 포켓몬까지 한 줄에 하나씩 입력으로 들어와. 포켓몬의 이름은 모두 영어로만 이루어져있고, 또, 음... 첫 글자만 대문자이고, 나머지 문자는 소문자로만 이루어져 있어. 포켓몬 이름의 최대 길이는 20이야. 그 다음 줄부터 총 M개의 줄에 내가 맞춰야하는 문제가 입력으로 들어와. 문제가 알파벳으로만 들어오면 포켓몬 번호를 말해야 하고, 숫자로만 들어오면, 포켓몬 번호에 해당하는 문자를 출력해야해. 입력으로 들어오는 숫자는 반드시 1보다 크거나 같고, N보다 작거나 같고, 입력으로 들어오는 문자는 반드시 도감에 있는 포켓몬의 이름만 주어져. 그럼 화이팅!!!\n",
        "\n",
        "## 출력\n",
        "\n",
        "첫째 줄부터 차례대로 M개의 줄에 각각의 문제에 대한 답을 말해줬으면 좋겠어!!!. 입력으로 숫자가 들어왔다면 그 숫자에 해당하는 포켓몬의 이름을, 문자가 들어왔으면 그 포켓몬의 이름에 해당하는 번호를 출력하면 돼. 그럼 땡큐~\n",
        "\n",
        "<img src='https://onlinejudgeimages.s3-ap-northeast-1.amazonaws.com/upload/201004/pn.PNG'>\n",
        "\n",
        "이게 오박사님이 나에게 새로 주시려고 하는 도감이야. 너무 가지고 싶다ㅠㅜ. 꼭 만점을 받아줬으면 좋겠어!! 파이팅!!!"
      ]
    },
    {
      "cell_type": "code",
      "metadata": {
        "id": "Ecy_KWD-VXdZ",
        "colab_type": "code",
        "colab": {
          "base_uri": "https://localhost:8080/",
          "height": 126
        },
        "outputId": "036861f9-4fd2-48b6-afee-2f8eca70d4d5"
      },
      "source": [
        "import sys\n",
        "\n",
        "N, M = map(int, input().split(' '))\n",
        "pokelist = []\n",
        "pokedict = {}\n",
        "\n",
        "for i in range(N):\n",
        "    poke = sys.stdin.readline().rstrip()\n",
        "    pokelist.append(poke)\n",
        "    pokedict[poke] = i+1\n",
        "\n",
        "for j in range(M):\n",
        "    q = sys.stdin.readline().rstrip()\n",
        "    try:\n",
        "        print( pokelist[int(q)-1] )\n",
        "    except:\n",
        "        print(pokedict[q])"
      ],
      "execution_count": null,
      "outputs": [
        {
          "output_type": "stream",
          "text": [
            "3 1\n",
            "Bulbasaur\n",
            "Ivysaur\n",
            "Venusaur\n",
            "3\n",
            "Venusaur\n"
          ],
          "name": "stdout"
        }
      ]
    },
    {
      "cell_type": "markdown",
      "metadata": {
        "id": "8R9luiC-s3vQ",
        "colab_type": "text"
      },
      "source": [
        "## 후기\n",
        "\n",
        "1. 여러 줄을 읽기 위한 `sys.stdin.readline()` 함수의 사용\n",
        "\n",
        "2. 번호 출력을 위해 `list.index()`를 사용하면 검색(?)에 시간이 오래 걸리기 때문에, dictionary 형태로 따로 저장 후 번호 출력."
      ]
    },
    {
      "cell_type": "markdown",
      "metadata": {
        "id": "yr44W7oPcv0V",
        "colab_type": "text"
      },
      "source": [
        "# 1072번 게임\n",
        "\n",
        "## 문제\n",
        "\n",
        "김형택은 지금 몰래 Spider Solitaire(스파이더 카드놀이)를 하고 있다. 형택이는 이 게임을 이길 때도 있었지만, 질 때도 있었다. 누군가의 시선이 느껴진 형택이는 게임을 중단하고 코딩을 하기 시작했다. 의심을 피했다고 생각한 형택이는 다시 게임을 켰다. 그 때 형택이는 잠시 코딩을 하는 사이에 자신의 게임 실력이 눈에 띄게 향상된 것을 알았다.\n",
        "\n",
        "이제 형택이는 앞으로의 모든 게임에서 지지 않는다. 하지만, 형택이는 게임 기록을 삭제 할 수 없기 때문에, 자신의 못하던 예전 기록이 현재 자신의 엄청난 실력을 증명하지 못한다고 생각했다.\n",
        "\n",
        "게임 기록은 다음과 같이 생겼다.\n",
        "\n",
        "* 게임 횟수 : X\n",
        "* 이긴 게임 : Y (Z %)\n",
        "* Z는 형택이의 승률이다. 소수점은 버린다. 예를 들어, X=53, Y=47이라면, Z = 88이다.\n",
        "\n",
        "\n",
        "X와 Y가 주어졌을 때, 형택이가 게임을 몇 판 더해야 Z가 변하는지 구하는 프로그램을 작성하시오.\n",
        "\n",
        "## 입력\n",
        "\n",
        "각 줄에 X와 Y가 주어진다. X는 1,000,000,000보다 작거나 같은 자연수이고, Y는 0보다 크거나 같고, X보다 작거나 같은 자연수이다.\n",
        "\n",
        "## 출력\n",
        "\n",
        "첫째 줄에 형택이가 게임을 몇 판 해야하는지 출력한다. 만약 Z가 절대 변하지 않는다면 -1을 출력한다."
      ]
    },
    {
      "cell_type": "code",
      "metadata": {
        "id": "NUnIN2z3c3iv",
        "colab_type": "code",
        "colab": {
          "base_uri": "https://localhost:8080/",
          "height": 90
        },
        "outputId": "c52e65d9-a446-47ca-9f24-58f6788280bc"
      },
      "source": [
        "import math\n",
        "\n",
        "X, Y = map(int, input().split())\n",
        "\n",
        "if Y >= 0.99*X:\n",
        "    print('-1')\n",
        "else:\n",
        "    s = math.floor(100*Y/X) + 1 - 100*Y/X\n",
        "    print(s)\n",
        "    ans = (X*s - 100*Y) / (100-s)\n",
        "    print(ans)\n",
        "    print(math.ceil(ans))\n",
        "    "
      ],
      "execution_count": null,
      "outputs": [
        {
          "output_type": "stream",
          "text": [
            "10 8\n",
            "1.0\n",
            "-7.97979797979798\n",
            "-7\n"
          ],
          "name": "stdout"
        }
      ]
    },
    {
      "cell_type": "markdown",
      "metadata": {
        "id": "gMalrYm1WHTn",
        "colab_type": "text"
      },
      "source": [
        "---\n",
        "Date: 2020-07-28\n",
        "\n",
        "Progress: 5/5"
      ]
    },
    {
      "cell_type": "markdown",
      "metadata": {
        "id": "ljQQHZY-WItd",
        "colab_type": "text"
      },
      "source": [
        "# 2751번. 수 정렬하기 2\n",
        "\n",
        "## 문제\n",
        "\n",
        "N개의 수가 주어졌을 때, 이를 오름차순으로 정렬하는 프로그램을 작성하시오.\n",
        "\n",
        "## 입력\n",
        "\n",
        "첫째 줄에 수의 개수 N(1 ≤ N ≤ 1,000,000)이 주어진다. 둘째 줄부터 N개의 줄에는 숫자가 주어진다. 이 수는 절댓값이 1,000,000보다 작거나 같은 정수이다. 수는 중복되지 않는다.\n",
        "\n",
        "## 출력\n",
        "\n",
        "첫째 줄부터 N개의 줄에 오름차순으로 정렬한 결과를 한 줄에 하나씩 출력한다.\n",
        "\n"
      ]
    },
    {
      "cell_type": "code",
      "metadata": {
        "id": "IB8Vbu8pdE_r",
        "colab_type": "code",
        "colab": {
          "base_uri": "https://localhost:8080/",
          "height": 145
        },
        "outputId": "d31cd297-d6f3-4804-c472-826150726319"
      },
      "source": [
        "import sys\n",
        "\n",
        "N = int(input())\n",
        "arr = []\n",
        "\n",
        "for i in range(N):\n",
        "    arr.append(int(input()))\n",
        "    # arr.append(int(sys.stdin.readline().rstrip()))\n",
        "\n",
        "arr.sort(reverse=True)\n",
        "\n",
        "for i in range(N):\n",
        "    print(arr.pop())"
      ],
      "execution_count": null,
      "outputs": [
        {
          "output_type": "stream",
          "text": [
            "3\n",
            "3\n",
            "2\n",
            "1\n",
            "1\n",
            "2\n",
            "3\n"
          ],
          "name": "stdout"
        }
      ]
    },
    {
      "cell_type": "markdown",
      "metadata": {
        "id": "Zq6BeAsFgPEo",
        "colab_type": "text"
      },
      "source": [
        "# 11650번 좌표 정렬하기\n",
        "\n",
        "## 문제\n",
        "\n",
        "2차원 평면 위의 점 N개가 주어진다. 좌표를 x좌표가 증가하는 순으로, x좌표가 같으면 y좌표가 증가하는 순서로 정렬한 다음 출력하는 프로그램을 작성하시오.\n",
        "\n",
        "## 입력\n",
        "\n",
        "첫째 줄에 점의 개수 N (1 ≤ N ≤ 100,000)이 주어진다. 둘째 줄부터 N개의 줄에는 i번점의 위치 xi와 yi가 주어진다. (-100,000 ≤ xi, yi ≤ 100,000) 좌표는 항상 정수이고, 위치가 같은 두 점은 없다.\n",
        "\n",
        "## 출력\n",
        "\n",
        "첫째 줄부터 N개의 줄에 점을 정렬한 결과를 출력한다."
      ]
    },
    {
      "cell_type": "code",
      "metadata": {
        "id": "wL_vse08fw-d",
        "colab_type": "code",
        "colab": {
          "base_uri": "https://localhost:8080/",
          "height": 217
        },
        "outputId": "c7715c5e-2a9b-49a5-eadd-950acee4c346"
      },
      "source": [
        "import sys\n",
        "\n",
        "N = int(input())\n",
        "points = []\n",
        "\n",
        "for i in range(N):\n",
        "    x, y = map(int, input().split())\n",
        "    point = (x, y)\n",
        "    points.append(point)\n",
        "\n",
        "points.sort(key = lambda x: (x[0], x[1]))\n",
        "\n",
        "for i in range(len(points)):\n",
        "    print(points[i][0], points[i][1])"
      ],
      "execution_count": null,
      "outputs": [
        {
          "output_type": "stream",
          "text": [
            "5\n",
            "3 4\n",
            "1 1\n",
            "1 -1\n",
            "2 2\n",
            "3 3\n",
            "1 -1\n",
            "1 1\n",
            "2 2\n",
            "3 3\n",
            "3 4\n"
          ],
          "name": "stdout"
        }
      ]
    },
    {
      "cell_type": "markdown",
      "metadata": {
        "id": "1_NHSQCejRJB",
        "colab_type": "text"
      },
      "source": [
        "## 후기\n",
        "\n",
        "> [하나씩 점을 찍어가며](https://dailyheumsi.tistory.com/67)\n",
        "\n",
        "* `lambda`를 이용하여 특정 조건(여기서는 특정 인덱스)에 대해 정렬\n",
        "\n",
        "* 다중 조건을 적용하여 정렬하려면 `lambda` 함수에 tuple 형태로 넘겨줌."
      ]
    },
    {
      "cell_type": "markdown",
      "metadata": {
        "id": "Szj-o2xzjD4x",
        "colab_type": "text"
      },
      "source": [
        "# 11651번 좌표 정렬하기 2\n",
        "\n",
        "## 문제\n",
        "\n",
        "2차원 평면 위의 점 N개가 주어진다. 좌표를 y좌표가 증가하는 순으로, y좌표가 같으면 x좌표가 증가하는 순서로 정렬한 다음 출력하는 프로그램을 작성하시오.\n",
        "\n",
        "## 입력\n",
        "\n",
        "첫째 줄에 점의 개수 N (1 ≤ N ≤ 100,000)이 주어진다. 둘째 줄부터 N개의 줄에는 i번점의 위치 xi와 yi가 주어진다. (-100,000 ≤ xi, yi ≤ 100,000) 좌표는 항상 정수이고, 위치가 같은 두 점은 없다.\n",
        "\n",
        "## 출력\n",
        "\n",
        "첫째 줄부터 N개의 줄에 점을 정렬한 결과를 출력한다."
      ]
    },
    {
      "cell_type": "code",
      "metadata": {
        "id": "Lr3O08TZg2tK",
        "colab_type": "code",
        "colab": {}
      },
      "source": [
        "import sys\n",
        "\n",
        "N = int(input())\n",
        "points = []\n",
        "\n",
        "for i in range(N):\n",
        "    x, y = map(int, input().split())\n",
        "    point = (x, y)\n",
        "    points.append(point)\n",
        "\n",
        "points.sort(key=lambda x: (x[1], x[0]))\n",
        "\n",
        "for i in range(len(points)):\n",
        "    print(points[i][0], points[i][1])"
      ],
      "execution_count": null,
      "outputs": []
    },
    {
      "cell_type": "markdown",
      "metadata": {
        "id": "FW-Wnjy4kpvr",
        "colab_type": "text"
      },
      "source": [
        "# 10814번 나이순 정렬\n",
        "\n",
        "## 문제\n",
        "\n",
        "온라인 저지에 가입한 사람들의 나이와 이름이 가입한 순서대로 주어진다. 이때, 회원들을 나이가 증가하는 순으로, 나이가 같으면 먼저 가입한 사람이 앞에 오는 순서로 정렬하는 프로그램을 작성하시오.\n",
        "\n",
        "## 입력\n",
        "\n",
        "첫째 줄에 온라인 저지 회원의 수 N이 주어진다. (1 ≤ N ≤ 100,000)\n",
        "\n",
        "둘째 줄부터 N개의 줄에는 각 회원의 나이와 이름이 공백으로 구분되어 주어진다. 나이는 1보다 크거나 같으며, 200보다 작거나 같은 정수이고, 이름은 알파벳 대소문자로 이루어져 있고, 길이가 100보다 작거나 같은 문자열이다. 입력은 가입한 순서로 주어진다.\n",
        "\n",
        "## 출력\n",
        "\n",
        "첫째 줄부터 총 N개의 줄에 걸쳐 온라인 저지 회원을 나이 순, 나이가 같으면 가입한 순으로 한 줄에 한 명씩 나이와 이름을 공백으로 구분해 출력한다."
      ]
    },
    {
      "cell_type": "code",
      "metadata": {
        "id": "9E-fxcd_kvvL",
        "colab_type": "code",
        "colab": {
          "base_uri": "https://localhost:8080/",
          "height": 145
        },
        "outputId": "f7492fa6-64e2-4e48-e0ab-68cdbb8d7a00"
      },
      "source": [
        "import sys\n",
        "\n",
        "N = int(input())\n",
        "members = []\n",
        "\n",
        "for i in range(N):\n",
        "    x, y = input().split()\n",
        "    member = (int(x), y)\n",
        "    members.append(member)\n",
        "\n",
        "members.sort(key=lambda x: x[0])\n",
        "\n",
        "for i in range(len(members)):\n",
        "    print(members[i][0], members[i][1])"
      ],
      "execution_count": null,
      "outputs": [
        {
          "output_type": "stream",
          "text": [
            "3\n",
            "21 Junkyu\n",
            "21 Dohyun\n",
            "20 Sunyoung\n",
            "20 Sunyoung\n",
            "21 Junkyu\n",
            "21 Dohyun\n"
          ],
          "name": "stdout"
        }
      ]
    },
    {
      "cell_type": "markdown",
      "metadata": {
        "id": "QozcgSQomw1J",
        "colab_type": "text"
      },
      "source": [
        "# 10825번 국영수\n",
        "\n",
        "## 문제\n",
        "\n",
        "도현이네 반 학생 N명의 이름과 국어, 영어, 수학 점수가 주어진다. 이때, 다음과 같은 조건으로 학생의 성적을 정렬하는 프로그램을 작성하시오.\n",
        "\n",
        "1. 국어 점수가 감소하는 순서로\n",
        "2. 국어 점수가 같으면 영어 점수가 증가하는 순서로\n",
        "3. 국어 점수와 영어 점수가 같으면 수학 점수가 감소하는 순서로\n",
        "4. 모든 점수가 같으면 이름이 사전 순으로 증가하는 순서로 (단, 아스키 코드에서 대문자는 소문자보다 작으므로 사전순으로 앞에 온다.)\n",
        "\n",
        "## 입력\n",
        "\n",
        "첫째 줄에 도현이네 반의 학생의 수 N (1 ≤ N ≤ 100,000)이 주어진다. 둘째 줄부터 한 줄에 하나씩 각 학생의 이름, 국어, 영어, 수학 점수가 공백으로 구분해 주어진다. 점수는 1보다 크거나 같고, 100보다 작거나 같은 자연수이다. 이름은 알파벳 대소문자로 이루어진 문자열이고, 길이는 10자리를 넘지 않는다.\n",
        "\n",
        "## 출력\n",
        "\n",
        "문제에 나와있는 정렬 기준으로 정렬한 후 첫째 줄부터 N개의 줄에 걸쳐 각 학생의 이름을 출력한다."
      ]
    },
    {
      "cell_type": "code",
      "metadata": {
        "id": "EFXHHVaalQFJ",
        "colab_type": "code",
        "colab": {
          "base_uri": "https://localhost:8080/",
          "height": 472
        },
        "outputId": "e3cab421-9317-4237-a678-25ee9ddc5e02"
      },
      "source": [
        "import sys\n",
        "\n",
        "N = int(input())\n",
        "grades = []\n",
        "\n",
        "for i in range(N):\n",
        "    name, x, y, z = input().split()\n",
        "    grade = (name, int(x), int(y), int(z))\n",
        "    grades.append(grade)\n",
        "\n",
        "grades.sort(key=lambda x: (-x[1], x[2], -x[3], x[0]))\n",
        "\n",
        "for i in range(len(grades)):\n",
        "    print(grades[i][0])"
      ],
      "execution_count": null,
      "outputs": [
        {
          "output_type": "stream",
          "text": [
            "12\n",
            "Junkyu 50 60 100\n",
            "Sangkeun 80 60 50\n",
            "Sunyoung 80 70 100\n",
            "Soong 50 60 90\n",
            "Haebin 50 60 100\n",
            "Kangsoo 60 80 100\n",
            "Donghyuk 80 60 100\n",
            "Sei 70 70 70\n",
            "Wonseob 70 70 90\n",
            "Sanghyun 70 70 80\n",
            "nsj 80 80 80\n",
            "Taewhan 50 60 90\n",
            "Donghyuk\n",
            "Sangkeun\n",
            "Sunyoung\n",
            "nsj\n",
            "Wonseob\n",
            "Sanghyun\n",
            "Sei\n",
            "Kangsoo\n",
            "Haebin\n",
            "Junkyu\n",
            "Soong\n",
            "Taewhan\n"
          ],
          "name": "stdout"
        }
      ]
    },
    {
      "cell_type": "markdown",
      "metadata": {
        "id": "yDbeAmoyor9J",
        "colab_type": "text"
      },
      "source": [
        "## 후기\n",
        "\n",
        "> [공식문서: 다중 조건 정렬 모듈, operator](https://docs.python.org/ko/3/howto/sorting.html#operator-module-functions)\n",
        "\n",
        "> [불확실! 조건별 오름/내림 차순 정렬에 대한 글](https://studyforus.com/tipnknowhow/659339)"
      ]
    },
    {
      "cell_type": "markdown",
      "metadata": {
        "id": "zv6wvm-kP2Zj",
        "colab_type": "text"
      },
      "source": [
        "---\n",
        "\n",
        "Date: 2020-07-29\n",
        "\n",
        "Progress: "
      ]
    },
    {
      "cell_type": "markdown",
      "metadata": {
        "id": "VVimntUd9SFz",
        "colab_type": "text"
      },
      "source": [
        "어떤 대상을 순서에 따라 배열한 것을 순열이라고 합니다. \n",
        "\n",
        "예를 들어 3124는 숫자 1, 2, 3, 4로 만들 수 있는 순열 중 하나입니다.\n",
        "   \n",
        "이렇게 만들 수 있는 모든 순열을 숫자나 문자 순으로 늘어놓은 것을 사전식(lexicographic) 순서라고 합니다.\n",
        "\n",
        "0, 1, 2로 만들 수 있는 사전식 순열은 다음과 같습니다. \n",
        "\n",
        "012   021   102   120   201   210\n",
        "\n",
        "## 문제\n",
        "\n",
        "0, 1, 2, 3, 4, 5, 6, 7, 8, 9로 만들 수 있는 사전식 순열에서 1,000,000번째는 무엇입니까?"
      ]
    },
    {
      "cell_type": "code",
      "metadata": {
        "id": "3DUDU3M38_9p",
        "colab_type": "code",
        "colab": {
          "base_uri": "https://localhost:8080/",
          "height": 90
        },
        "outputId": "0a328b32-b4d9-4a6a-8a01-70da506bf97f"
      },
      "source": [
        "def factorial(n):\n",
        "    result = 1\n",
        "    for i in range(1, n+1):\n",
        "        result = result*i\n",
        "    return result\n",
        "\n",
        "factorials = [factorial(i) for i in range(1,11)]\n",
        "\n",
        "print(factorials)\n",
        "print(len(factorials))\n",
        "\n",
        "factorials.sort(reverse=True)\n",
        "factorials = factorials[:9]\n",
        "print(factorials)\n",
        "\n",
        "N = 1000000\n",
        "\n",
        "ans = []\n",
        "\n",
        "\n",
        "for f in factorials:\n",
        "    if N%f == 0:\n",
        "        ans.append('END')\n",
        "    else:\n",
        "        ans.append(N//f)\n",
        "    N = N%f\n",
        "\n",
        "print(ans)\n",
        "        \n"
      ],
      "execution_count": null,
      "outputs": [
        {
          "output_type": "stream",
          "text": [
            "[1, 2, 6, 24, 120, 720, 5040, 40320, 362880, 3628800]\n",
            "10\n",
            "[3628800, 362880, 40320, 5040, 720, 120, 24, 6, 2]\n",
            "[0, 2, 6, 6, 2, 5, 1, 2, 'END']\n"
          ],
          "name": "stdout"
        }
      ]
    },
    {
      "cell_type": "markdown",
      "metadata": {
        "id": "PT767kHaoe8x",
        "colab_type": "text"
      },
      "source": [
        "2671804359"
      ]
    },
    {
      "cell_type": "code",
      "metadata": {
        "id": "xwnmAmL-AZap",
        "colab_type": "code",
        "colab": {
          "base_uri": "https://localhost:8080/",
          "height": 35
        },
        "outputId": "a3801db3-e7ce-46ac-d69b-3c80fb5501c3"
      },
      "source": [
        "candi = [i for i in range(10)]\n",
        "print(candi)"
      ],
      "execution_count": null,
      "outputs": [
        {
          "output_type": "stream",
          "text": [
            "[0, 1, 2, 3, 4, 5, 6, 7, 8, 9]\n"
          ],
          "name": "stdout"
        }
      ]
    },
    {
      "cell_type": "code",
      "metadata": {
        "id": "nygpyczepDEs",
        "colab_type": "code",
        "colab": {
          "base_uri": "https://localhost:8080/",
          "height": 35
        },
        "outputId": "a2f6520f-9359-4d82-b579-6deefe285463"
      },
      "source": [
        "candi.pop(2)\n",
        "candi"
      ],
      "execution_count": null,
      "outputs": [
        {
          "output_type": "execute_result",
          "data": {
            "text/plain": [
              "[0, 1, 3, 4, 5, 6, 7, 8, 9]"
            ]
          },
          "metadata": {
            "tags": []
          },
          "execution_count": 15
        }
      ]
    },
    {
      "cell_type": "code",
      "metadata": {
        "id": "OQituuOspJbF",
        "colab_type": "code",
        "colab": {
          "base_uri": "https://localhost:8080/",
          "height": 35
        },
        "outputId": "dfcf12ca-e0dc-4f0c-e249-0d77a4cca639"
      },
      "source": [
        "candi.pop(5)\n",
        "candi"
      ],
      "execution_count": null,
      "outputs": [
        {
          "output_type": "execute_result",
          "data": {
            "text/plain": [
              "[0, 1, 3, 4, 5, 7, 8, 9]"
            ]
          },
          "metadata": {
            "tags": []
          },
          "execution_count": 16
        }
      ]
    },
    {
      "cell_type": "code",
      "metadata": {
        "id": "I2npSRXrpNoF",
        "colab_type": "code",
        "colab": {
          "base_uri": "https://localhost:8080/",
          "height": 35
        },
        "outputId": "c9687e20-f9fa-4c6e-f24c-0e467ebe4222"
      },
      "source": [
        "candi.pop(5)\n",
        "candi"
      ],
      "execution_count": null,
      "outputs": [
        {
          "output_type": "execute_result",
          "data": {
            "text/plain": [
              "[0, 1, 3, 4, 5, 8, 9]"
            ]
          },
          "metadata": {
            "tags": []
          },
          "execution_count": 17
        }
      ]
    },
    {
      "cell_type": "code",
      "metadata": {
        "id": "e7RANGVnpe-k",
        "colab_type": "code",
        "colab": {
          "base_uri": "https://localhost:8080/",
          "height": 35
        },
        "outputId": "cec2d2c4-d6c0-459e-bcaf-86b13283bb55"
      },
      "source": [
        "candi.pop(1)\n",
        "candi"
      ],
      "execution_count": null,
      "outputs": [
        {
          "output_type": "execute_result",
          "data": {
            "text/plain": [
              "[0, 3, 4, 5, 8, 9]"
            ]
          },
          "metadata": {
            "tags": []
          },
          "execution_count": 18
        }
      ]
    },
    {
      "cell_type": "code",
      "metadata": {
        "id": "urpfx_XNphcb",
        "colab_type": "code",
        "colab": {
          "base_uri": "https://localhost:8080/",
          "height": 35
        },
        "outputId": "14754862-a96c-468e-9cf7-a5ae7d5b2b60"
      },
      "source": [
        "candi.pop(4)\n",
        "candi"
      ],
      "execution_count": null,
      "outputs": [
        {
          "output_type": "execute_result",
          "data": {
            "text/plain": [
              "[0, 3, 4, 5, 9]"
            ]
          },
          "metadata": {
            "tags": []
          },
          "execution_count": 19
        }
      ]
    },
    {
      "cell_type": "code",
      "metadata": {
        "id": "xDosZf5dpmYS",
        "colab_type": "code",
        "colab": {
          "base_uri": "https://localhost:8080/",
          "height": 35
        },
        "outputId": "4b43f981-2544-4ead-ff71-234f909f6014"
      },
      "source": [
        "candi.pop(0)\n",
        "candi"
      ],
      "execution_count": null,
      "outputs": [
        {
          "output_type": "execute_result",
          "data": {
            "text/plain": [
              "[3, 4, 5, 9]"
            ]
          },
          "metadata": {
            "tags": []
          },
          "execution_count": 20
        }
      ]
    },
    {
      "cell_type": "code",
      "metadata": {
        "id": "3ZDR5yiOpr5L",
        "colab_type": "code",
        "colab": {
          "base_uri": "https://localhost:8080/",
          "height": 35
        },
        "outputId": "9279974a-859d-4ff3-85bd-30afae34eb3c"
      },
      "source": [
        "candi.pop(1)\n",
        "candi"
      ],
      "execution_count": null,
      "outputs": [
        {
          "output_type": "execute_result",
          "data": {
            "text/plain": [
              "[3, 5, 9]"
            ]
          },
          "metadata": {
            "tags": []
          },
          "execution_count": 21
        }
      ]
    },
    {
      "cell_type": "code",
      "metadata": {
        "id": "0n4vpFqLpxVz",
        "colab_type": "code",
        "colab": {}
      },
      "source": [
        ""
      ],
      "execution_count": null,
      "outputs": []
    },
    {
      "cell_type": "markdown",
      "metadata": {
        "id": "6QlY8QBlqPEC",
        "colab_type": "text"
      },
      "source": [
        "# 2789번 블랙잭\n",
        "\n",
        "## 문제\n",
        "\n",
        "카지노에서 제일 인기 있는 게임 블랙잭의 규칙은 상당히 쉽다. 카드의 합이 21을 넘지 않는 한도 내에서, 카드의 합을 최대한 크게 만드는 게임이다. 블랙잭은 카지노마다 다양한 규정이 있다.\n",
        "\n",
        "한국 최고의 블랙잭 고수 김정인은 새로운 블랙잭 규칙을 만들어 상근, 창영이와 게임하려고 한다.\n",
        "\n",
        "김정인 버전의 블랙잭에서 각 카드에는 양의 정수가 쓰여 있다. 그 다음, 딜러는 N장의 카드를 모두 숫자가 보이도록 바닥에 놓는다. 그런 후에 딜러는 숫자 M을 크게 외친다.\n",
        "\n",
        "이제 플레이어는 제한된 시간 안에 N장의 카드 중에서 3장의 카드를 골라야 한다. 블랙잭 변형 게임이기 때문에, 플레이어가 고른 카드의 합은 M을 넘지 않으면서 M과 최대한 가깝게 만들어야 한다.\n",
        "\n",
        "N장의 카드에 써져 있는 숫자가 주어졌을 때, M을 넘지 않으면서 M에 최대한 가까운 카드 3장의 합을 구해 출력하시오.\n",
        "\n",
        "## 입력\n",
        "\n",
        "첫째 줄에 카드의 개수 N(3 ≤ N ≤ 100)과 M(10 ≤ M ≤ 300,000)이 주어진다. 둘째 줄에는 카드에 쓰여 있는 수가 주어지며, 이 값은 100,000을 넘지 않는다.\n",
        "\n",
        "합이 M을 넘지 않는 카드 3장을 찾을 수 있는 경우만 입력으로 주어진다.\n",
        "\n",
        "## 출력\n",
        "\n",
        "첫째 줄에 M을 넘지 않으면서 M에 최대한 가까운 카드 3장의 합을 출력한다."
      ]
    },
    {
      "cell_type": "code",
      "metadata": {
        "id": "BytCgr1VqXPw",
        "colab_type": "code",
        "colab": {
          "base_uri": "https://localhost:8080/",
          "height": 90
        },
        "outputId": "ae83d8ca-078c-47de-b376-d7b7e758855b"
      },
      "source": [
        "N, M = map(int, input().split())\n",
        "\n",
        "cards = input().split()\n",
        "\n",
        "for i,c in enumerate(cards):\n",
        "    cards[i] = int(c)\n",
        "\n",
        "indices = []\n",
        "\n",
        "for i in range(N-2):\n",
        "    for j in range(i+1, N-1):\n",
        "        for k in range(j+1, N):\n",
        "            indices.append([i, j ,k])\n",
        "\n",
        "candies = []\n",
        "\n",
        "for idx in indices:\n",
        "    candies.append( cards[idx[0]]+cards[idx[1]]+cards[idx[2]] )\n",
        "\n",
        "print(candies)\n",
        "candies.sort()\n",
        "\n",
        "ans = []\n",
        "\n",
        "for i, candy in enumerate(candies):\n",
        "    result = M-candy\n",
        "    if result < 0:\n",
        "        ans.append(candies[i-1])\n",
        "        break\n",
        "\n",
        "try:\n",
        "    print(ans[0])\n",
        "except:\n",
        "    print(max(candies))"
      ],
      "execution_count": 12,
      "outputs": [
        {
          "output_type": "stream",
          "text": [
            "5 21\n",
            "1 2 3 4 5\n",
            "[6, 7, 8, 8, 9, 10, 9, 10, 11, 12]\n",
            "12\n"
          ],
          "name": "stdout"
        }
      ]
    },
    {
      "cell_type": "markdown",
      "metadata": {
        "id": "eAcNnn16sV3c",
        "colab_type": "text"
      },
      "source": [
        "## 노트\n",
        "\n",
        "인덱스의 집합을 만들어서 그 인덱스에 해당하는 값들의 합을 모두 후보로 저장\n",
        "그 중 M을 넘지 않으면서 가장 가까운 후보 출력\n",
        "\n",
        "## 후기\n",
        "\n",
        "* <sub>n</sub>C<sub>3</sub>을 구현할 수 있는 다른 코드 찾아보기. 현재 삼중 for문으로 구현. __-> 다른 정답 코드 봐도 저게 최선인듯 싶다.__\n",
        "\n",
        "* 가장 가까운 수를 찾기 위한 코드 찾아보기. __-> 모든 경우를 저장하지 않고 M보다 작은 것들만 저장한 후 sort해서 가장 마지막 값만 출력하더라__\n"
      ]
    },
    {
      "cell_type": "code",
      "metadata": {
        "id": "Wc_9APet2TXB",
        "colab_type": "code",
        "colab": {}
      },
      "source": [
        ""
      ],
      "execution_count": null,
      "outputs": []
    }
  ]
}